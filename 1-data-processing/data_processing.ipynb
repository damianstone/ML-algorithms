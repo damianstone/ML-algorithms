{
 "cells": [
  {
   "cell_type": "code",
   "execution_count": 1,
   "metadata": {},
   "outputs": [],
   "source": [
    "import pandas as pd\n",
    "import numpy as np\n",
    "import matplotlib.pyplot as plt"
   ]
  },
  {
   "cell_type": "code",
   "execution_count": 11,
   "metadata": {},
   "outputs": [],
   "source": [
    "# Importin the dataset\n",
    "dataset = pd.read_csv('./Data.csv')\n",
    "\n",
    "# Features (independent variables)\n",
    "# iloc -> alocate indexes, @first param: rows, @second param: columns\n",
    "# getting the first 3 columns\n",
    "# : means range in python and its include the lower bound but not the upper bound\n",
    "# empty range (:) = include everything \n",
    "features = dataset.iloc[:, :-1].values # all the rows and all the columns ixcluding the last one\n",
    "\n",
    "# getting the last column\n",
    "dependent_variables = dataset.iloc[:, -1]\n"
   ]
  },
  {
   "cell_type": "code",
   "execution_count": 13,
   "metadata": {},
   "outputs": [
    {
     "name": "stdout",
     "output_type": "stream",
     "text": [
      "[['France' 44.0 72000.0]\n",
      " ['Spain' 27.0 48000.0]\n",
      " ['Germany' 30.0 54000.0]\n",
      " ['Spain' 38.0 61000.0]\n",
      " ['Germany' 40.0 63777.77777777778]\n",
      " ['France' 35.0 58000.0]\n",
      " ['Spain' 38.77777777777778 52000.0]\n",
      " ['France' 48.0 79000.0]\n",
      " ['Germany' 50.0 83000.0]\n",
      " ['France' 37.0 67000.0]]\n"
     ]
    }
   ],
   "source": [
    "# Dealing of missing data\n",
    "\n",
    "from sklearn.impute import SimpleImputer\n",
    "\n",
    "# replace all the missing values in the value by the mean (np.nan = NAN / no value)\n",
    "imputer = SimpleImputer(missing_values=np.nan, strategy='mean')\n",
    "\n",
    "# fit just work for numerical values\n",
    "# search all the missing values from all rowas and second and third column (age and salary)\n",
    "imputer.fit(features[:, 1:3])\n",
    "features[:, 1:3] = imputer.transform(features[:, 1:3])\n",
    "\n",
    "print(features)\n"
   ]
  },
  {
   "cell_type": "code",
   "execution_count": null,
   "metadata": {},
   "outputs": [],
   "source": [
    "# Encoding categorical data\n",
    "\n",
    "from sklearn.compose import ColumnTransformer\n",
    "from sklearn.preprocessing import OneHotEncoder\n",
    "\n",
    "# 0 => because we need to encode the first column \"country\"\n",
    "# passthrough => to keep all the columns after the transformation\n",
    "ct = ColumnTransformer(transformrs=[('encoder', OneHotEncoder(), [0])], remainder='passthrough')\n",
    "\n",
    "# apply the transformation\n",
    "ct.fit_transform(features)\n",
    "\n"
   ]
  }
 ],
 "metadata": {
  "kernelspec": {
   "display_name": "venv-ML",
   "language": "python",
   "name": "python3"
  },
  "language_info": {
   "codemirror_mode": {
    "name": "ipython",
    "version": 3
   },
   "file_extension": ".py",
   "mimetype": "text/x-python",
   "name": "python",
   "nbconvert_exporter": "python",
   "pygments_lexer": "ipython3",
   "version": "3.9.0"
  },
  "orig_nbformat": 4
 },
 "nbformat": 4,
 "nbformat_minor": 2
}
