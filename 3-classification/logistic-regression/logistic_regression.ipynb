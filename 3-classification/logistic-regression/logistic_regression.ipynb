{
 "nbformat": 4,
 "nbformat_minor": 0,
 "metadata": {
  "colab": {
   "name": "logistic_regression.ipynb",
   "provenance": [],
   "collapsed_sections": [],
   "toc_visible": true,
   "machine_shape": "hm",
   "authorship_tag": "ABX9TyOsvB/iqEjYj3VN6C/JbvkE"
  },
  "kernelspec": {
   "name": "python3",
   "language": "python",
   "display_name": "Python 3 (ipykernel)"
  }
 },
 "cells": [
  {
   "cell_type": "markdown",
   "metadata": {
    "id": "0MRC0e0KhQ0S",
    "colab_type": "text"
   },
   "source": [
    "# Logistic Regression"
   ]
  },
  {
   "cell_type": "markdown",
   "metadata": {
    "id": "LWd1UlMnhT2s",
    "colab_type": "text"
   },
   "source": [
    "## Importing the libraries"
   ]
  },
  {
   "cell_type": "code",
   "metadata": {
    "id": "YvGPUQaHhXfL",
    "colab_type": "code",
    "colab": {},
    "ExecuteTime": {
     "end_time": "2023-07-21T23:36:34.721990Z",
     "start_time": "2023-07-21T23:36:33.781191Z"
    }
   },
   "source": [
    "import numpy as np\n",
    "import matplotlib.pyplot as plt\n",
    "import pandas as pd"
   ],
   "execution_count": 1,
   "outputs": []
  },
  {
   "cell_type": "markdown",
   "metadata": {
    "id": "K1VMqkGvhc3-",
    "colab_type": "text"
   },
   "source": [
    "## Importing the dataset"
   ]
  },
  {
   "cell_type": "code",
   "metadata": {
    "id": "M52QDmyzhh9s",
    "colab_type": "code",
    "colab": {},
    "ExecuteTime": {
     "end_time": "2023-07-21T23:36:34.734615Z",
     "start_time": "2023-07-21T23:36:34.726863Z"
    }
   },
   "source": [
    "dataset = pd.read_csv('Social_Network_Ads.csv')\n",
    "x = dataset.iloc[:, :-1].values\n",
    "y = dataset.iloc[:, -1].values"
   ],
   "execution_count": 2,
   "outputs": []
  },
  {
   "cell_type": "markdown",
   "metadata": {
    "id": "YvxIPVyMhmKp",
    "colab_type": "text"
   },
   "source": [
    "## Splitting the dataset into the Training set and Test set"
   ]
  },
  {
   "cell_type": "code",
   "metadata": {
    "id": "AVzJWAXIhxoC",
    "colab_type": "code",
    "colab": {},
    "ExecuteTime": {
     "end_time": "2023-07-21T23:36:35.454982Z",
     "start_time": "2023-07-21T23:36:34.738613Z"
    }
   },
   "source": [
    "from sklearn.model_selection import train_test_split\n",
    "x_train, x_test, y_train, y_test = train_test_split(x, y, test_size = 0.2, random_state = 0)"
   ],
   "execution_count": 3,
   "outputs": []
  },
  {
   "cell_type": "markdown",
   "metadata": {
    "id": "kW3c7UYih0hT",
    "colab_type": "text"
   },
   "source": [
    "## Feature Scaling"
   ]
  },
  {
   "cell_type": "code",
   "metadata": {
    "id": "9fQlDPKCh8sc",
    "colab_type": "code",
    "colab": {},
    "ExecuteTime": {
     "end_time": "2023-07-21T23:36:35.474211Z",
     "start_time": "2023-07-21T23:36:35.460831Z"
    }
   },
   "source": [
    "from sklearn.preprocessing import StandardScaler\n",
    "\n",
    "# WHY WE DO FEATURE SCALING HERE: -> it uses the logaritmic scale\n",
    "\n",
    "# scale: age and estimated salary\n",
    "scaler = StandardScaler()\n",
    "x_train= scaler.fit_transform(x_train)\n",
    "x_test = scaler.fit_transform(x_test)\n",
    "\n",
    "print(x_train)\n"
   ],
   "execution_count": 4,
   "outputs": [
    {
     "name": "stdout",
     "output_type": "stream",
     "text": [
      "[[ 1.92295008e+00  2.14601566e+00]\n",
      " [ 2.02016082e+00  3.78719297e-01]\n",
      " [-1.38221530e+00 -4.32498705e-01]\n",
      " [-1.18779381e+00 -1.01194013e+00]\n",
      " [ 1.92295008e+00 -9.25023920e-01]\n",
      " [ 3.67578135e-01  2.91803083e-01]\n",
      " [ 1.73156642e-01  1.46942725e-01]\n",
      " [ 2.02016082e+00  1.74040666e+00]\n",
      " [ 7.56421121e-01 -8.38107706e-01]\n",
      " [ 2.70367388e-01 -2.87638347e-01]\n",
      " [ 3.67578135e-01 -1.71750061e-01]\n",
      " [-1.18475597e-01  2.20395980e+00]\n",
      " [-1.47942605e+00 -6.35303205e-01]\n",
      " [-1.28500455e+00 -1.06988428e+00]\n",
      " [-1.38221530e+00  4.07691369e-01]\n",
      " [-1.09058306e+00  7.55356227e-01]\n",
      " [-1.47942605e+00 -2.00722133e-01]\n",
      " [ 9.50842613e-01 -1.06988428e+00]\n",
      " [ 9.50842613e-01  5.81523798e-01]\n",
      " [ 3.67578135e-01  9.87132798e-01]\n",
      " [ 5.61999628e-01 -8.96051849e-01]\n",
      " [-6.04529329e-01  1.45068594e+00]\n",
      " [-2.12648508e-02 -5.77359062e-01]\n",
      " [-6.04529329e-01  1.88526701e+00]\n",
      " [ 1.33968560e+00 -1.41754914e+00]\n",
      " [ 1.43689635e+00  9.87132798e-01]\n",
      " [ 7.59458956e-02 -8.09135634e-01]\n",
      " [-2.12648508e-02 -2.58666276e-01]\n",
      " [-2.15686344e-01 -5.77359062e-01]\n",
      " [-2.15686344e-01 -2.00722133e-01]\n",
      " [-3.12897090e-01 -1.30166085e+00]\n",
      " [-3.12897090e-01 -5.77359062e-01]\n",
      " [ 3.67578135e-01  8.89985821e-02]\n",
      " [ 8.53631867e-01 -6.06331134e-01]\n",
      " [ 2.02016082e+00 -1.18577256e+00]\n",
      " [ 1.04805336e+00 -1.42777990e-01]\n",
      " [ 6.59210374e-01  1.76937873e+00]\n",
      " [-7.01740076e-01  5.52551726e-01]\n",
      " [ 7.56421121e-01  3.49747226e-01]\n",
      " [ 8.53631867e-01 -5.48386991e-01]\n",
      " [-1.18779381e+00 -1.59138156e+00]\n",
      " [ 2.11737157e+00  9.29188655e-01]\n",
      " [-2.12648508e-02  1.21890937e+00]\n",
      " [ 1.73156642e-01  1.07404901e+00]\n",
      " [ 3.67578135e-01 -4.90442848e-01]\n",
      " [-3.12897090e-01 -3.16610419e-01]\n",
      " [ 9.50842613e-01 -8.38107706e-01]\n",
      " [ 9.50842613e-01  1.85629494e+00]\n",
      " [-2.12648508e-02  1.24788144e+00]\n",
      " [-8.96161568e-01  2.26190394e+00]\n",
      " [-1.18779381e+00 -1.59138156e+00]\n",
      " [ 2.11737157e+00 -8.09135634e-01]\n",
      " [-1.38221530e+00 -1.47549328e+00]\n",
      " [ 3.67578135e-01  2.29087602e+00]\n",
      " [ 7.56421121e-01  7.55356227e-01]\n",
      " [-9.93372315e-01 -3.16610419e-01]\n",
      " [ 7.59458956e-02  7.55356227e-01]\n",
      " [-9.93372315e-01  5.52551726e-01]\n",
      " [ 2.70367388e-01  6.00265106e-02]\n",
      " [ 6.59210374e-01 -1.27268878e+00]\n",
      " [-5.07318583e-01 -2.68897039e-02]\n",
      " [-1.77105829e+00  3.49747226e-01]\n",
      " [-7.01740076e-01  1.17970654e-01]\n",
      " [ 3.67578135e-01  2.91803083e-01]\n",
      " [-3.12897090e-01  6.00265106e-02]\n",
      " [-5.07318583e-01  2.29087602e+00]\n",
      " [ 1.73156642e-01  3.10544391e-02]\n",
      " [ 1.24247485e+00  2.20395980e+00]\n",
      " [ 7.56421121e-01  2.62831011e-01]\n",
      " [-3.12897090e-01  1.46942725e-01]\n",
      " [-2.12648508e-02 -5.48386991e-01]\n",
      " [-2.15686344e-01  1.46942725e-01]\n",
      " [-1.18475597e-01  2.33858940e-01]\n",
      " [-2.12648508e-02 -2.58666276e-01]\n",
      " [ 2.11737157e+00  1.10302108e+00]\n",
      " [-1.77105829e+00  3.49747226e-01]\n",
      " [ 1.82573933e+00  1.17970654e-01]\n",
      " [ 3.67578135e-01 -1.42777990e-01]\n",
      " [-1.18779381e+00  2.91803083e-01]\n",
      " [ 7.56421121e-01  1.36376973e+00]\n",
      " [-3.12897090e-01 -2.58666276e-01]\n",
      " [-1.67384754e+00 -5.58617754e-02]\n",
      " [-9.93372315e-01 -7.51191491e-01]\n",
      " [ 2.70367388e-01  4.94607583e-01]\n",
      " [-1.18475597e-01 -1.06988428e+00]\n",
      " [-1.09058306e+00  5.81523798e-01]\n",
      " [ 7.59458956e-02 -8.09135634e-01]\n",
      " [-9.93372315e-01  1.53760216e+00]\n",
      " [-7.01740076e-01  1.39274180e+00]\n",
      " [-1.28500455e+00  4.94607583e-01]\n",
      " [-3.12897090e-01  3.10544391e-02]\n",
      " [-1.18475597e-01  2.08236764e-03]\n",
      " [-3.12897090e-01 -8.96051849e-01]\n",
      " [ 8.53631867e-01 -1.35960499e+00]\n",
      " [-3.12897090e-01  2.23293187e+00]\n",
      " [ 9.50842613e-01  1.97218323e+00]\n",
      " [-1.18779381e+00  4.65635512e-01]\n",
      " [-1.28500455e+00  2.62831011e-01]\n",
      " [ 1.33968560e+00  1.97218323e+00]\n",
      " [ 1.24247485e+00 -1.35960499e+00]\n",
      " [-3.12897090e-01 -2.87638347e-01]\n",
      " [-5.07318583e-01  1.24788144e+00]\n",
      " [-7.98950822e-01  1.07404901e+00]\n",
      " [ 9.50842613e-01 -1.06988428e+00]\n",
      " [ 2.70367388e-01  2.91803083e-01]\n",
      " [ 9.50842613e-01  7.55356227e-01]\n",
      " [-7.01740076e-01 -1.50446535e+00]\n",
      " [-7.01740076e-01  3.10544391e-02]\n",
      " [ 4.64788881e-01  1.71143459e+00]\n",
      " [ 2.02016082e+00  1.75914797e-01]\n",
      " [-1.96547978e+00 -7.51191491e-01]\n",
      " [-2.15686344e-01  1.39274180e+00]\n",
      " [ 3.67578135e-01  5.81523798e-01]\n",
      " [ 8.53631867e-01 -1.15680049e+00]\n",
      " [-1.18779381e+00 -7.80163563e-01]\n",
      " [ 1.73156642e-01  2.33858940e-01]\n",
      " [ 7.56421121e-01 -3.16610419e-01]\n",
      " [ 2.02016082e+00 -8.09135634e-01]\n",
      " [ 7.56421121e-01  1.17970654e-01]\n",
      " [-3.12897090e-01  6.10495869e-01]\n",
      " [-9.93372315e-01 -3.16610419e-01]\n",
      " [ 1.73156642e-01 -3.74554562e-01]\n",
      " [ 2.02016082e+00  2.11704359e+00]\n",
      " [ 1.82573933e+00 -1.27268878e+00]\n",
      " [ 1.33968560e+00 -9.25023920e-01]\n",
      " [ 8.53631867e-01  1.24788144e+00]\n",
      " [ 1.43689635e+00  2.11704359e+00]\n",
      " [-3.12897090e-01 -1.24371671e+00]\n",
      " [ 1.92295008e+00  9.00216584e-01]\n",
      " [ 6.59210374e-01 -7.22219420e-01]\n",
      " [-1.47942605e+00  3.49747226e-01]\n",
      " [ 7.56421121e-01 -1.35960499e+00]\n",
      " [ 3.67578135e-01 -1.42777990e-01]\n",
      " [-9.93372315e-01  4.07691369e-01]\n",
      " [-2.12648508e-02 -3.16610419e-01]\n",
      " [-1.18779381e+00  4.07691369e-01]\n",
      " [-8.96161568e-01 -1.21474464e+00]\n",
      " [-1.18475597e-01  3.10544391e-02]\n",
      " [-1.57663679e+00 -4.32498705e-01]\n",
      " [ 9.50842613e-01 -1.01194013e+00]\n",
      " [ 1.04805336e+00 -1.21474464e+00]\n",
      " [-2.12648508e-02 -1.42777990e-01]\n",
      " [-1.09058306e+00 -1.53343742e+00]\n",
      " [ 7.56421121e-01 -1.21474464e+00]\n",
      " [ 9.50842613e-01  2.05909944e+00]\n",
      " [-1.18779381e+00 -1.53343742e+00]\n",
      " [-3.12897090e-01  7.84328298e-01]\n",
      " [ 7.59458956e-02 -3.16610419e-01]\n",
      " [-1.38221530e+00 -1.24371671e+00]\n",
      " [-6.04529329e-01 -1.50446535e+00]\n",
      " [ 7.56421121e-01  5.23579655e-01]\n",
      " [-3.12897090e-01 -3.45582490e-01]\n",
      " [ 1.72852858e+00 -2.87638347e-01]\n",
      " [ 8.53631867e-01 -1.04091221e+00]\n",
      " [ 1.73156642e-01  6.00265106e-02]\n",
      " [-6.04529329e-01  8.71244512e-01]\n",
      " [-1.86826903e+00 -1.41754914e+00]\n",
      " [-1.28500455e+00  5.81523798e-01]\n",
      " [-3.12897090e-01  5.23579655e-01]\n",
      " [-9.93372315e-01 -1.09885635e+00]\n",
      " [ 1.14526411e+00 -1.44652121e+00]\n",
      " [ 1.73156642e-01 -3.16610419e-01]\n",
      " [ 1.14526411e+00 -7.51191491e-01]\n",
      " [-3.12897090e-01  6.00265106e-02]\n",
      " [ 1.73156642e-01  2.08807152e+00]\n",
      " [ 7.56421121e-01 -1.09885635e+00]\n",
      " [ 7.59458956e-02  3.10544391e-02]\n",
      " [-1.77105829e+00  1.17970654e-01]\n",
      " [-8.96161568e-01  1.46942725e-01]\n",
      " [-7.01740076e-01  1.75914797e-01]\n",
      " [ 8.53631867e-01 -1.30166085e+00]\n",
      " [ 1.73156642e-01 -2.58666276e-01]\n",
      " [-4.10107836e-01  1.21890937e+00]\n",
      " [-2.12648508e-02  2.91803083e-01]\n",
      " [ 3.67578135e-01  1.46942725e-01]\n",
      " [ 8.53631867e-01 -6.64275277e-01]\n",
      " [ 7.59458956e-02  1.46942725e-01]\n",
      " [-1.86826903e+00 -1.30166085e+00]\n",
      " [-1.18475597e-01  2.91803083e-01]\n",
      " [-2.15686344e-01 -2.87638347e-01]\n",
      " [ 2.70367388e-01 -5.19414919e-01]\n",
      " [-2.15686344e-01  1.59554630e+00]\n",
      " [ 9.50842613e-01 -1.18577256e+00]\n",
      " [-2.15686344e-01  1.62451837e+00]\n",
      " [ 1.24247485e+00  1.85629494e+00]\n",
      " [-1.09058306e+00 -3.74554562e-01]\n",
      " [-2.12648508e-02  3.10544391e-02]\n",
      " [ 7.59458956e-02 -2.58666276e-01]\n",
      " [-1.57663679e+00 -1.24371671e+00]\n",
      " [-5.07318583e-01 -2.87638347e-01]\n",
      " [ 9.50842613e-01  1.17970654e-01]\n",
      " [ 1.92295008e+00 -1.35960499e+00]\n",
      " [ 1.43689635e+00  6.00265106e-02]\n",
      " [-6.04529329e-01  1.36376973e+00]\n",
      " [ 1.53410709e+00  2.08236764e-03]\n",
      " [-7.98950822e-01  2.91803083e-01]\n",
      " [ 1.92295008e+00  7.26384155e-01]\n",
      " [-1.18779381e+00 -5.19414919e-01]\n",
      " [ 6.59210374e-01  2.62831011e-01]\n",
      " [-1.38221530e+00 -4.32498705e-01]\n",
      " [ 1.73156642e-01  1.46942725e-01]\n",
      " [-5.07318583e-01 -1.21474464e+00]\n",
      " [ 5.61999628e-01  2.00115530e+00]\n",
      " [-1.57663679e+00 -1.50446535e+00]\n",
      " [-5.07318583e-01 -5.48386991e-01]\n",
      " [ 4.64788881e-01  1.82732287e+00]\n",
      " [-1.38221530e+00 -1.09885635e+00]\n",
      " [ 7.56421121e-01 -1.38857706e+00]\n",
      " [-3.12897090e-01 -4.32498705e-01]\n",
      " [ 1.53410709e+00  9.87132798e-01]\n",
      " [ 9.50842613e-01  1.42171387e+00]\n",
      " [-3.12897090e-01 -4.90442848e-01]\n",
      " [-1.18475597e-01  2.14601566e+00]\n",
      " [-1.47942605e+00 -1.13805918e-01]\n",
      " [-1.18475597e-01  1.94321116e+00]\n",
      " [-7.01740076e-01 -3.45582490e-01]\n",
      " [-5.07318583e-01 -8.38107706e-01]\n",
      " [ 6.59210374e-01 -1.38857706e+00]\n",
      " [-7.98950822e-01 -1.59138156e+00]\n",
      " [-1.86826903e+00 -1.47549328e+00]\n",
      " [ 1.04805336e+00  1.17970654e-01]\n",
      " [ 7.59458956e-02  1.50863009e+00]\n",
      " [-3.12897090e-01  8.89985821e-02]\n",
      " [ 7.59458956e-02  3.10544391e-02]\n",
      " [-1.38221530e+00 -1.35960499e+00]\n",
      " [ 2.70367388e-01  6.00265106e-02]\n",
      " [-8.96161568e-01  3.78719297e-01]\n",
      " [ 1.53410709e+00 -1.27268878e+00]\n",
      " [-3.12897090e-01 -7.51191491e-01]\n",
      " [-1.18475597e-01  1.46942725e-01]\n",
      " [-8.96161568e-01 -6.64275277e-01]\n",
      " [-7.01740076e-01 -5.58617754e-02]\n",
      " [ 3.67578135e-01 -4.61470776e-01]\n",
      " [-7.98950822e-01  1.88526701e+00]\n",
      " [ 1.33968560e+00  1.27685351e+00]\n",
      " [ 1.14526411e+00 -9.82968063e-01]\n",
      " [ 1.72852858e+00  1.82732287e+00]\n",
      " [-8.96161568e-01 -2.58666276e-01]\n",
      " [-7.98950822e-01  5.52551726e-01]\n",
      " [-1.18779381e+00 -1.56240949e+00]\n",
      " [-5.07318583e-01 -1.12782842e+00]\n",
      " [ 2.70367388e-01  6.00265106e-02]\n",
      " [-2.15686344e-01 -1.06988428e+00]\n",
      " [ 1.63131784e+00  1.59554630e+00]\n",
      " [ 9.50842613e-01  1.76937873e+00]\n",
      " [ 2.70367388e-01  3.10544391e-02]\n",
      " [-7.98950822e-01 -2.29694204e-01]\n",
      " [-1.18475597e-01  6.00265106e-02]\n",
      " [ 2.70367388e-01 -2.00722133e-01]\n",
      " [ 1.92295008e+00 -6.64275277e-01]\n",
      " [-7.98950822e-01  1.33479766e+00]\n",
      " [-1.77105829e+00 -6.06331134e-01]\n",
      " [-1.18475597e-01  1.17970654e-01]\n",
      " [ 2.70367388e-01 -3.16610419e-01]\n",
      " [ 1.04805336e+00  5.52551726e-01]\n",
      " [-9.93372315e-01  2.62831011e-01]\n",
      " [ 1.43689635e+00  3.49747226e-01]\n",
      " [ 1.73156642e-01 -3.74554562e-01]\n",
      " [ 2.11737157e+00 -1.04091221e+00]\n",
      " [-3.12897090e-01  1.10302108e+00]\n",
      " [-1.67384754e+00  6.00265106e-02]\n",
      " [-2.12648508e-02  3.10544391e-02]\n",
      " [ 7.59458956e-02  1.04507694e+00]\n",
      " [-1.18475597e-01 -3.74554562e-01]\n",
      " [-1.18779381e+00  6.00265106e-02]\n",
      " [-3.12897090e-01 -1.35960499e+00]\n",
      " [ 1.53410709e+00  1.10302108e+00]\n",
      " [-7.98950822e-01 -1.53343742e+00]\n",
      " [ 7.59458956e-02  1.85629494e+00]\n",
      " [-8.96161568e-01 -7.80163563e-01]\n",
      " [-5.07318583e-01 -7.80163563e-01]\n",
      " [-3.12897090e-01 -9.25023920e-01]\n",
      " [ 2.70367388e-01 -7.22219420e-01]\n",
      " [ 2.70367388e-01  6.00265106e-02]\n",
      " [ 7.59458956e-02  1.85629494e+00]\n",
      " [-1.09058306e+00  1.94321116e+00]\n",
      " [-1.67384754e+00 -1.56240949e+00]\n",
      " [-1.18779381e+00 -1.09885635e+00]\n",
      " [-7.01740076e-01 -1.13805918e-01]\n",
      " [ 7.59458956e-02  8.89985821e-02]\n",
      " [ 2.70367388e-01  2.62831011e-01]\n",
      " [ 8.53631867e-01 -5.77359062e-01]\n",
      " [ 2.70367388e-01 -1.15680049e+00]\n",
      " [-1.18475597e-01  6.68440012e-01]\n",
      " [ 2.11737157e+00 -6.93247348e-01]\n",
      " [-1.28500455e+00 -1.38857706e+00]\n",
      " [-9.93372315e-01 -9.53995992e-01]\n",
      " [-2.12648508e-02 -4.32498705e-01]\n",
      " [-2.15686344e-01 -4.61470776e-01]\n",
      " [-1.77105829e+00 -9.82968063e-01]\n",
      " [ 1.72852858e+00  9.87132798e-01]\n",
      " [ 1.73156642e-01 -3.74554562e-01]\n",
      " [ 3.67578135e-01  1.10302108e+00]\n",
      " [-1.77105829e+00 -1.35960499e+00]\n",
      " [ 1.73156642e-01 -1.42777990e-01]\n",
      " [ 8.53631867e-01 -1.44652121e+00]\n",
      " [-1.96547978e+00  4.65635512e-01]\n",
      " [-3.12897090e-01  2.62831011e-01]\n",
      " [ 1.82573933e+00 -1.06988428e+00]\n",
      " [-4.10107836e-01  6.00265106e-02]\n",
      " [ 1.04805336e+00 -8.96051849e-01]\n",
      " [-1.09058306e+00 -1.12782842e+00]\n",
      " [-1.86826903e+00  2.08236764e-03]\n",
      " [ 7.59458956e-02  2.62831011e-01]\n",
      " [-1.18779381e+00  3.20775154e-01]\n",
      " [-1.28500455e+00  2.91803083e-01]\n",
      " [-9.93372315e-01  4.36663440e-01]\n",
      " [ 1.63131784e+00 -8.96051849e-01]\n",
      " [ 1.14526411e+00  5.23579655e-01]\n",
      " [ 1.04805336e+00  5.23579655e-01]\n",
      " [ 1.33968560e+00  2.31984809e+00]\n",
      " [-3.12897090e-01 -1.42777990e-01]\n",
      " [ 3.67578135e-01 -4.61470776e-01]\n",
      " [-4.10107836e-01 -7.80163563e-01]\n",
      " [-1.18475597e-01 -5.19414919e-01]\n",
      " [ 9.50842613e-01 -1.15680049e+00]\n",
      " [-8.96161568e-01 -7.80163563e-01]\n",
      " [-2.15686344e-01 -5.19414919e-01]\n",
      " [-1.09058306e+00 -4.61470776e-01]\n",
      " [-1.18779381e+00  1.39274180e+00]]\n"
     ]
    }
   ]
  },
  {
   "cell_type": "markdown",
   "metadata": {
    "id": "bb6jCOCQiAmP",
    "colab_type": "text"
   },
   "source": [
    "## Training the Logistic Regression model on the Training set"
   ]
  },
  {
   "cell_type": "code",
   "metadata": {
    "id": "e0pFVAmciHQs",
    "colab_type": "code",
    "outputId": "67f64468-abdb-4fe7-cce9-de0037119610",
    "executionInfo": {
     "status": "ok",
     "timestamp": 1588265315505,
     "user_tz": -240,
     "elapsed": 2125,
     "user": {
      "displayName": "Hadelin de Ponteves",
      "photoUrl": "https://lh3.googleusercontent.com/a-/AOh14GhEuXdT7eQweUmRPW8_laJuPggSK6hfvpl5a6WBaA=s64",
      "userId": "15047218817161520419"
     }
    },
    "colab": {
     "base_uri": "https://localhost:8080/",
     "height": 103
    },
    "ExecuteTime": {
     "end_time": "2023-07-21T23:36:35.556416Z",
     "start_time": "2023-07-21T23:36:35.480241Z"
    }
   },
   "source": [
    "from sklearn.linear_model import LogisticRegression\n",
    "\n",
    "classifier = LogisticRegression(random_state=0)\n",
    "classifier.fit(x_train, y_train)\n"
   ],
   "execution_count": 5,
   "outputs": [
    {
     "data": {
      "text/plain": "LogisticRegression(random_state=0)",
      "text/html": "<style>#sk-container-id-1 {color: black;background-color: white;}#sk-container-id-1 pre{padding: 0;}#sk-container-id-1 div.sk-toggleable {background-color: white;}#sk-container-id-1 label.sk-toggleable__label {cursor: pointer;display: block;width: 100%;margin-bottom: 0;padding: 0.3em;box-sizing: border-box;text-align: center;}#sk-container-id-1 label.sk-toggleable__label-arrow:before {content: \"▸\";float: left;margin-right: 0.25em;color: #696969;}#sk-container-id-1 label.sk-toggleable__label-arrow:hover:before {color: black;}#sk-container-id-1 div.sk-estimator:hover label.sk-toggleable__label-arrow:before {color: black;}#sk-container-id-1 div.sk-toggleable__content {max-height: 0;max-width: 0;overflow: hidden;text-align: left;background-color: #f0f8ff;}#sk-container-id-1 div.sk-toggleable__content pre {margin: 0.2em;color: black;border-radius: 0.25em;background-color: #f0f8ff;}#sk-container-id-1 input.sk-toggleable__control:checked~div.sk-toggleable__content {max-height: 200px;max-width: 100%;overflow: auto;}#sk-container-id-1 input.sk-toggleable__control:checked~label.sk-toggleable__label-arrow:before {content: \"▾\";}#sk-container-id-1 div.sk-estimator input.sk-toggleable__control:checked~label.sk-toggleable__label {background-color: #d4ebff;}#sk-container-id-1 div.sk-label input.sk-toggleable__control:checked~label.sk-toggleable__label {background-color: #d4ebff;}#sk-container-id-1 input.sk-hidden--visually {border: 0;clip: rect(1px 1px 1px 1px);clip: rect(1px, 1px, 1px, 1px);height: 1px;margin: -1px;overflow: hidden;padding: 0;position: absolute;width: 1px;}#sk-container-id-1 div.sk-estimator {font-family: monospace;background-color: #f0f8ff;border: 1px dotted black;border-radius: 0.25em;box-sizing: border-box;margin-bottom: 0.5em;}#sk-container-id-1 div.sk-estimator:hover {background-color: #d4ebff;}#sk-container-id-1 div.sk-parallel-item::after {content: \"\";width: 100%;border-bottom: 1px solid gray;flex-grow: 1;}#sk-container-id-1 div.sk-label:hover label.sk-toggleable__label {background-color: #d4ebff;}#sk-container-id-1 div.sk-serial::before {content: \"\";position: absolute;border-left: 1px solid gray;box-sizing: border-box;top: 0;bottom: 0;left: 50%;z-index: 0;}#sk-container-id-1 div.sk-serial {display: flex;flex-direction: column;align-items: center;background-color: white;padding-right: 0.2em;padding-left: 0.2em;position: relative;}#sk-container-id-1 div.sk-item {position: relative;z-index: 1;}#sk-container-id-1 div.sk-parallel {display: flex;align-items: stretch;justify-content: center;background-color: white;position: relative;}#sk-container-id-1 div.sk-item::before, #sk-container-id-1 div.sk-parallel-item::before {content: \"\";position: absolute;border-left: 1px solid gray;box-sizing: border-box;top: 0;bottom: 0;left: 50%;z-index: -1;}#sk-container-id-1 div.sk-parallel-item {display: flex;flex-direction: column;z-index: 1;position: relative;background-color: white;}#sk-container-id-1 div.sk-parallel-item:first-child::after {align-self: flex-end;width: 50%;}#sk-container-id-1 div.sk-parallel-item:last-child::after {align-self: flex-start;width: 50%;}#sk-container-id-1 div.sk-parallel-item:only-child::after {width: 0;}#sk-container-id-1 div.sk-dashed-wrapped {border: 1px dashed gray;margin: 0 0.4em 0.5em 0.4em;box-sizing: border-box;padding-bottom: 0.4em;background-color: white;}#sk-container-id-1 div.sk-label label {font-family: monospace;font-weight: bold;display: inline-block;line-height: 1.2em;}#sk-container-id-1 div.sk-label-container {text-align: center;}#sk-container-id-1 div.sk-container {/* jupyter's `normalize.less` sets `[hidden] { display: none; }` but bootstrap.min.css set `[hidden] { display: none !important; }` so we also need the `!important` here to be able to override the default hidden behavior on the sphinx rendered scikit-learn.org. See: https://github.com/scikit-learn/scikit-learn/issues/21755 */display: inline-block !important;position: relative;}#sk-container-id-1 div.sk-text-repr-fallback {display: none;}</style><div id=\"sk-container-id-1\" class=\"sk-top-container\"><div class=\"sk-text-repr-fallback\"><pre>LogisticRegression(random_state=0)</pre><b>In a Jupyter environment, please rerun this cell to show the HTML representation or trust the notebook. <br />On GitHub, the HTML representation is unable to render, please try loading this page with nbviewer.org.</b></div><div class=\"sk-container\" hidden><div class=\"sk-item\"><div class=\"sk-estimator sk-toggleable\"><input class=\"sk-toggleable__control sk-hidden--visually\" id=\"sk-estimator-id-1\" type=\"checkbox\" checked><label for=\"sk-estimator-id-1\" class=\"sk-toggleable__label sk-toggleable__label-arrow\">LogisticRegression</label><div class=\"sk-toggleable__content\"><pre>LogisticRegression(random_state=0)</pre></div></div></div></div></div>"
     },
     "execution_count": 5,
     "metadata": {},
     "output_type": "execute_result"
    }
   ]
  },
  {
   "cell_type": "markdown",
   "metadata": {
    "id": "yyxW5b395mR2",
    "colab_type": "text"
   },
   "source": [
    "## Predicting a new result"
   ]
  },
  {
   "cell_type": "code",
   "metadata": {
    "id": "f8YOXsQy58rP",
    "colab_type": "code",
    "outputId": "2e1b0063-548e-4924-cf3a-93a79d97e35e",
    "executionInfo": {
     "status": "ok",
     "timestamp": 1588265315505,
     "user_tz": -240,
     "elapsed": 2118,
     "user": {
      "displayName": "Hadelin de Ponteves",
      "photoUrl": "https://lh3.googleusercontent.com/a-/AOh14GhEuXdT7eQweUmRPW8_laJuPggSK6hfvpl5a6WBaA=s64",
      "userId": "15047218817161520419"
     }
    },
    "colab": {
     "base_uri": "https://localhost:8080/",
     "height": 34
    },
    "ExecuteTime": {
     "end_time": "2023-07-21T23:36:35.567104Z",
     "start_time": "2023-07-21T23:36:35.558546Z"
    }
   },
   "source": [
    "pred_data = scaler.transform([[30, 87000]])\n",
    "pred_result = classifier.predict(pred_data)\n",
    "\n",
    "print(pred_result)"
   ],
   "execution_count": 6,
   "outputs": [
    {
     "name": "stdout",
     "output_type": "stream",
     "text": [
      "[0]\n"
     ]
    }
   ]
  },
  {
   "cell_type": "markdown",
   "metadata": {
    "id": "vKYVQH-l5NpE",
    "colab_type": "text"
   },
   "source": [
    "## Predicting the test set results"
   ]
  },
  {
   "cell_type": "code",
   "metadata": {
    "id": "p6VMTb2O4hwM",
    "colab_type": "code",
    "outputId": "a4f03a97-2942-45cd-f735-f4063277a96c",
    "executionInfo": {
     "status": "ok",
     "timestamp": 1588265315506,
     "user_tz": -240,
     "elapsed": 2112,
     "user": {
      "displayName": "Hadelin de Ponteves",
      "photoUrl": "https://lh3.googleusercontent.com/a-/AOh14GhEuXdT7eQweUmRPW8_laJuPggSK6hfvpl5a6WBaA=s64",
      "userId": "15047218817161520419"
     }
    },
    "colab": {
     "base_uri": "https://localhost:8080/",
     "height": 1000
    },
    "ExecuteTime": {
     "end_time": "2023-07-21T23:36:35.615985Z",
     "start_time": "2023-07-21T23:36:35.575661Z"
    }
   },
   "source": [
    "y_pred = classifier.predict(x_test)\n",
    "y_pred_reshaped = y_pred.reshape(len(y_pred), 1)\n",
    "y_test_reshaped = y_test.reshape(len(y_test), 1)\n",
    "\n",
    "# to compare the predicted results with the originals ones\n",
    "concatenated = np.concatenate((y_pred_reshaped, y_test_reshaped), 1)\n",
    "print(concatenated)"
   ],
   "execution_count": 7,
   "outputs": [
    {
     "name": "stdout",
     "output_type": "stream",
     "text": [
      "[[0 0]\n",
      " [0 0]\n",
      " [0 0]\n",
      " [0 0]\n",
      " [0 0]\n",
      " [0 0]\n",
      " [0 0]\n",
      " [1 1]\n",
      " [0 0]\n",
      " [1 0]\n",
      " [0 0]\n",
      " [0 0]\n",
      " [0 0]\n",
      " [1 0]\n",
      " [0 0]\n",
      " [1 0]\n",
      " [0 0]\n",
      " [0 0]\n",
      " [1 1]\n",
      " [0 0]\n",
      " [0 0]\n",
      " [1 1]\n",
      " [0 0]\n",
      " [1 1]\n",
      " [0 0]\n",
      " [1 1]\n",
      " [0 0]\n",
      " [0 0]\n",
      " [0 0]\n",
      " [0 0]\n",
      " [0 0]\n",
      " [0 1]\n",
      " [1 1]\n",
      " [0 0]\n",
      " [0 0]\n",
      " [0 0]\n",
      " [0 0]\n",
      " [0 0]\n",
      " [0 0]\n",
      " [1 1]\n",
      " [0 0]\n",
      " [0 0]\n",
      " [0 0]\n",
      " [0 0]\n",
      " [1 1]\n",
      " [0 0]\n",
      " [0 0]\n",
      " [1 1]\n",
      " [0 0]\n",
      " [1 1]\n",
      " [1 1]\n",
      " [0 0]\n",
      " [0 0]\n",
      " [1 0]\n",
      " [1 1]\n",
      " [0 1]\n",
      " [0 0]\n",
      " [0 0]\n",
      " [1 1]\n",
      " [0 0]\n",
      " [0 0]\n",
      " [1 1]\n",
      " [0 0]\n",
      " [1 1]\n",
      " [0 0]\n",
      " [1 1]\n",
      " [0 0]\n",
      " [0 0]\n",
      " [0 0]\n",
      " [1 0]\n",
      " [1 1]\n",
      " [0 0]\n",
      " [0 0]\n",
      " [0 1]\n",
      " [0 0]\n",
      " [0 0]\n",
      " [1 0]\n",
      " [0 0]\n",
      " [1 1]\n",
      " [1 1]]\n"
     ]
    }
   ]
  },
  {
   "cell_type": "markdown",
   "metadata": {
    "id": "h4Hwj34ziWQW",
    "colab_type": "text"
   },
   "source": [
    "## Making the Confusion Matrix"
   ]
  },
  {
   "cell_type": "code",
   "metadata": {
    "id": "D6bpZwUiiXic",
    "colab_type": "code",
    "outputId": "f202fcb3-5882-4d93-e5df-50791185067e",
    "executionInfo": {
     "status": "ok",
     "timestamp": 1588265315506,
     "user_tz": -240,
     "elapsed": 2107,
     "user": {
      "displayName": "Hadelin de Ponteves",
      "photoUrl": "https://lh3.googleusercontent.com/a-/AOh14GhEuXdT7eQweUmRPW8_laJuPggSK6hfvpl5a6WBaA=s64",
      "userId": "15047218817161520419"
     }
    },
    "colab": {
     "base_uri": "https://localhost:8080/",
     "height": 68
    },
    "ExecuteTime": {
     "end_time": "2023-07-21T23:36:35.618336Z",
     "start_time": "2023-07-21T23:36:35.585073Z"
    }
   },
   "source": [
    "from sklearn.metrics import confusion_matrix, accuracy_score\n",
    "\n",
    "# Why we use the CM? -> To see the incorrect and correct prediction of each of the possibe outcomes (0 - 1)\n",
    "cm = confusion_matrix(y_test, y_pred)\n",
    "print(cm)\n",
    "accuracy_score(y_test, y_pred)"
   ],
   "execution_count": 8,
   "outputs": [
    {
     "name": "stdout",
     "output_type": "stream",
     "text": [
      "[[52  6]\n",
      " [ 3 19]]\n"
     ]
    },
    {
     "data": {
      "text/plain": "0.8875"
     },
     "execution_count": 8,
     "metadata": {},
     "output_type": "execute_result"
    }
   ]
  },
  {
   "cell_type": "markdown",
   "metadata": {
    "id": "6OMC_P0diaoD",
    "colab_type": "text"
   },
   "source": [
    "## Visualising the Training set results"
   ]
  },
  {
   "cell_type": "code",
   "metadata": {
    "id": "_NOjKvZRid5l",
    "colab_type": "code",
    "outputId": "6fa60701-9aa4-46f2-a6aa-0f9b0aad62b3",
    "executionInfo": {
     "status": "ok",
     "timestamp": 1588265336596,
     "user_tz": -240,
     "elapsed": 23189,
     "user": {
      "displayName": "Hadelin de Ponteves",
      "photoUrl": "https://lh3.googleusercontent.com/a-/AOh14GhEuXdT7eQweUmRPW8_laJuPggSK6hfvpl5a6WBaA=s64",
      "userId": "15047218817161520419"
     }
    },
    "colab": {
     "base_uri": "https://localhost:8080/",
     "height": 349
    },
    "ExecuteTime": {
     "end_time": "2023-07-21T23:37:02.623951Z",
     "start_time": "2023-07-21T23:36:35.619955Z"
    }
   },
   "source": [
    "from matplotlib.colors import ListedColormap\n",
    "\n",
    "X_set, y_set = scaler.inverse_transform(x_train), y_train\n",
    "\n",
    "X1, X2 = np.meshgrid(np.arange(start = X_set[:, 0].min() - 10, stop = X_set[:, 0].max() + 10, step = 0.25),\n",
    "                     np.arange(start = X_set[:, 1].min() - 1000, stop = X_set[:, 1].max() + 1000, step = 0.25))\n",
    "\n",
    "plt.contourf(X1, X2, classifier.predict(scaler.transform(np.array([X1.ravel(), X2.ravel()]).T)).reshape(X1.shape),\n",
    "             alpha = 0.75, cmap = ListedColormap(('red', 'green')))\n",
    "\n",
    "plt.xlim(X1.min(), X1.max())\n",
    "plt.ylim(X2.min(), X2.max())\n",
    "\n",
    "for i, j in enumerate(np.unique(y_set)):\n",
    "    plt.scatter(X_set[y_set == j, 0], X_set[y_set == j, 1], c = ListedColormap(('red', 'green'))(i), label = j)\n",
    "\n",
    "plt.title('Logistic Regression (Training set)')\n",
    "plt.xlabel('Age')\n",
    "plt.ylabel('Estimated Salary')\n",
    "plt.legend()\n",
    "plt.show()"
   ],
   "execution_count": 9,
   "outputs": [
    {
     "name": "stderr",
     "output_type": "stream",
     "text": [
      "/var/folders/8z/9lk7_58n1dzgvd97cfqznmxc0000gn/T/ipykernel_22375/2824021833.py:15: UserWarning: *c* argument looks like a single numeric RGB or RGBA sequence, which should be avoided as value-mapping will have precedence in case its length matches with *x* & *y*.  Please use the *color* keyword-argument or provide a 2D array with a single row if you intend to specify the same RGB or RGBA value for all points.\n",
      "  plt.scatter(X_set[y_set == j, 0], X_set[y_set == j, 1], c = ListedColormap(('red', 'green'))(i), label = j)\n"
     ]
    },
    {
     "data": {
      "text/plain": "<Figure size 640x480 with 1 Axes>",
      "image/png": "[encoded data removed]"
     },
     "metadata": {},
     "output_type": "display_data"
    }
   ]
  },
  {
   "cell_type": "markdown",
   "metadata": {
    "id": "SZ-j28aPihZx",
    "colab_type": "text"
   },
   "source": [
    "## Visualising the Test set results"
   ]
  },
  {
   "cell_type": "code",
   "metadata": {
    "id": "qeTjz2vDilAC",
    "colab_type": "code",
    "outputId": "00fb10bc-c726-46b8-8eaa-c5c6b584aa54",
    "executionInfo": {
     "status": "ok",
     "timestamp": 1588265357223,
     "user_tz": -240,
     "elapsed": 43807,
     "user": {
      "displayName": "Hadelin de Ponteves",
      "photoUrl": "https://lh3.googleusercontent.com/a-/AOh14GhEuXdT7eQweUmRPW8_laJuPggSK6hfvpl5a6WBaA=s64",
      "userId": "15047218817161520419"
     }
    },
    "colab": {
     "base_uri": "https://localhost:8080/",
     "height": 349
    },
    "ExecuteTime": {
     "start_time": "2023-07-21T23:37:02.620637Z"
    }
   },
   "source": [
    "from matplotlib.colors import ListedColormap\n",
    "\n",
    "X_set, y_set = scaler.inverse_transform(x_test), y_test\n",
    "\n",
    "X1, X2 = np.meshgrid(np.arange(start = X_set[:, 0].min() - 10, stop = X_set[:, 0].max() + 10, step = 0.25),\n",
    "                     np.arange(start = X_set[:, 1].min() - 1000, stop = X_set[:, 1].max() + 1000, step = 0.25))\n",
    "\n",
    "plt.contourf(X1, X2, classifier.predict(scaler.transform(np.array([X1.ravel(), X2.ravel()]).T)).reshape(X1.shape),\n",
    "             alpha = 0.75, cmap = ListedColormap(('red', 'green')))\n",
    "\n",
    "plt.xlim(X1.min(), X1.max())\n",
    "plt.ylim(X2.min(), X2.max())\n",
    "\n",
    "for i, j in enumerate(np.unique(y_set)):\n",
    "    plt.scatter(X_set[y_set == j, 0], X_set[y_set == j, 1], c = ListedColormap(('red', 'green'))(i), label = j)\n",
    "\n",
    "plt.title('Logistic Regression (Test set)')\n",
    "plt.xlabel('Age')\n",
    "plt.ylabel('Estimated Salary')\n",
    "plt.legend()\n",
    "plt.show()"
   ],
   "execution_count": 10,
   "outputs": [
    {
     "name": "stderr",
     "output_type": "stream",
     "text": [
      "/var/folders/8z/9lk7_58n1dzgvd97cfqznmxc0000gn/T/ipykernel_22375/81190869.py:15: UserWarning: *c* argument looks like a single numeric RGB or RGBA sequence, which should be avoided as value-mapping will have precedence in case its length matches with *x* & *y*.  Please use the *color* keyword-argument or provide a 2D array with a single row if you intend to specify the same RGB or RGBA value for all points.\n",
      "  plt.scatter(X_set[y_set == j, 0], X_set[y_set == j, 1], c = ListedColormap(('red', 'green'))(i), label = j)\n"
     ]
    },
    {
     "data": {
      "text/plain": "<Figure size 640x480 with 1 Axes>",
      "image/png": "[encoded data removed]"
     },
     "metadata": {},
     "output_type": "display_data"
    }
   ]
  }
 ]
}
