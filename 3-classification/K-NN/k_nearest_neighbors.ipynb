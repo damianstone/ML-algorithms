{
 "nbformat": 4,
 "nbformat_minor": 0,
 "metadata": {
  "colab": {
   "name": "k_nearest_neighbors.ipynb",
   "provenance": [],
   "collapsed_sections": [],
   "toc_visible": true,
   "machine_shape": "hm",
   "authorship_tag": "ABX9TyO/71HmJztjHpR9Q3DXpRZQ"
  },
  "kernelspec": {
   "name": "python3",
   "language": "python",
   "display_name": "Python 3 (ipykernel)"
  }
 },
 "cells": [
  {
   "cell_type": "markdown",
   "metadata": {
    "id": "0MRC0e0KhQ0S",
    "colab_type": "text"
   },
   "source": [
    "# K-Nearest Neighbors (K-NN)"
   ]
  },
  {
   "cell_type": "markdown",
   "metadata": {
    "id": "LWd1UlMnhT2s",
    "colab_type": "text"
   },
   "source": [
    "## Importing the libraries"
   ]
  },
  {
   "cell_type": "code",
   "metadata": {
    "id": "YvGPUQaHhXfL",
    "colab_type": "code",
    "colab": {},
    "ExecuteTime": {
     "end_time": "2023-07-18T22:33:30.680770Z",
     "start_time": "2023-07-18T22:33:29.694245Z"
    }
   },
   "source": [
    "import numpy as np\n",
    "import matplotlib.pyplot as plt\n",
    "import pandas as pd"
   ],
   "execution_count": 3,
   "outputs": []
  },
  {
   "cell_type": "markdown",
   "metadata": {
    "id": "K1VMqkGvhc3-",
    "colab_type": "text"
   },
   "source": [
    "## Importing the dataset"
   ]
  },
  {
   "cell_type": "code",
   "metadata": {
    "id": "M52QDmyzhh9s",
    "colab_type": "code",
    "colab": {},
    "ExecuteTime": {
     "end_time": "2023-07-18T22:33:30.709750Z",
     "start_time": "2023-07-18T22:33:30.622297Z"
    }
   },
   "source": [
    "dataset = pd.read_csv('Social_Network_Ads.csv')\n",
    "X = dataset.iloc[:, :-1].values\n",
    "y = dataset.iloc[:, -1].values"
   ],
   "execution_count": 4,
   "outputs": []
  },
  {
   "cell_type": "markdown",
   "metadata": {
    "id": "YvxIPVyMhmKp",
    "colab_type": "text"
   },
   "source": [
    "## Splitting the dataset into the Training set and Test set"
   ]
  },
  {
   "cell_type": "code",
   "metadata": {
    "id": "AVzJWAXIhxoC",
    "colab_type": "code",
    "colab": {},
    "ExecuteTime": {
     "end_time": "2023-07-18T22:33:30.710144Z",
     "start_time": "2023-07-18T22:33:30.631036Z"
    }
   },
   "source": [],
   "execution_count": 4,
   "outputs": []
  },
  {
   "cell_type": "markdown",
   "metadata": {
    "id": "kW3c7UYih0hT",
    "colab_type": "text"
   },
   "source": [
    "## Feature Scaling"
   ]
  },
  {
   "cell_type": "code",
   "metadata": {
    "id": "9fQlDPKCh8sc",
    "colab_type": "code",
    "colab": {},
    "ExecuteTime": {
     "end_time": "2023-07-18T22:33:30.710520Z",
     "start_time": "2023-07-18T22:33:30.638770Z"
    }
   },
   "source": [],
   "execution_count": 4,
   "outputs": []
  },
  {
   "cell_type": "markdown",
   "metadata": {
    "id": "bb6jCOCQiAmP",
    "colab_type": "text"
   },
   "source": [
    "## Training the K-NN model on the Training set"
   ]
  },
  {
   "cell_type": "markdown",
   "metadata": {
    "id": "yyxW5b395mR2",
    "colab_type": "text"
   },
   "source": [
    "## Predicting a new result"
   ]
  },
  {
   "cell_type": "code",
   "metadata": {
    "id": "f8YOXsQy58rP",
    "colab_type": "code",
    "outputId": "e248f6c5-4613-4a9e-faed-093c46defda1",
    "executionInfo": {
     "status": "ok",
     "timestamp": 1588492962263,
     "user_tz": -240,
     "elapsed": 2351,
     "user": {
      "displayName": "Hadelin de Ponteves",
      "photoUrl": "https://lh3.googleusercontent.com/a-/AOh14GhEuXdT7eQweUmRPW8_laJuPggSK6hfvpl5a6WBaA=s64",
      "userId": "15047218817161520419"
     }
    },
    "colab": {
     "base_uri": "https://localhost:8080/",
     "height": 34
    },
    "ExecuteTime": {
     "end_time": "2023-07-18T22:33:30.710771Z",
     "start_time": "2023-07-18T22:33:30.643287Z"
    }
   },
   "source": [],
   "execution_count": 4,
   "outputs": []
  },
  {
   "cell_type": "markdown",
   "metadata": {
    "id": "vKYVQH-l5NpE",
    "colab_type": "text"
   },
   "source": [
    "## Predicting the Test set results"
   ]
  },
  {
   "cell_type": "code",
   "metadata": {
    "id": "p6VMTb2O4hwM",
    "colab_type": "code",
    "outputId": "14b859cb-16df-4e5d-894b-3bda8e756d3d",
    "executionInfo": {
     "status": "ok",
     "timestamp": 1588492962263,
     "user_tz": -240,
     "elapsed": 2345,
     "user": {
      "displayName": "Hadelin de Ponteves",
      "photoUrl": "https://lh3.googleusercontent.com/a-/AOh14GhEuXdT7eQweUmRPW8_laJuPggSK6hfvpl5a6WBaA=s64",
      "userId": "15047218817161520419"
     }
    },
    "colab": {
     "base_uri": "https://localhost:8080/",
     "height": 1000
    },
    "ExecuteTime": {
     "end_time": "2023-07-18T22:33:30.725199Z",
     "start_time": "2023-07-18T22:33:30.647155Z"
    }
   },
   "source": [],
   "execution_count": 4,
   "outputs": []
  },
  {
   "cell_type": "markdown",
   "metadata": {
    "id": "h4Hwj34ziWQW",
    "colab_type": "text"
   },
   "source": [
    "## Making the Confusion Matrix"
   ]
  },
  {
   "cell_type": "code",
   "metadata": {
    "id": "D6bpZwUiiXic",
    "colab_type": "code",
    "outputId": "ec9468d5-c478-4ffa-ba1c-535eb56d7304",
    "executionInfo": {
     "status": "ok",
     "timestamp": 1588492963427,
     "user_tz": -240,
     "elapsed": 3505,
     "user": {
      "displayName": "Hadelin de Ponteves",
      "photoUrl": "https://lh3.googleusercontent.com/a-/AOh14GhEuXdT7eQweUmRPW8_laJuPggSK6hfvpl5a6WBaA=s64",
      "userId": "15047218817161520419"
     }
    },
    "colab": {
     "base_uri": "https://localhost:8080/",
     "height": 68
    },
    "ExecuteTime": {
     "end_time": "2023-07-18T22:33:30.725915Z",
     "start_time": "2023-07-18T22:33:30.654415Z"
    }
   },
   "source": [],
   "execution_count": 4,
   "outputs": []
  },
  {
   "cell_type": "markdown",
   "metadata": {
    "id": "6OMC_P0diaoD",
    "colab_type": "text"
   },
   "source": [
    "## Visualising the Training set results"
   ]
  },
  {
   "cell_type": "code",
   "metadata": {
    "id": "_NOjKvZRid5l",
    "colab_type": "code",
    "colab": {
     "base_uri": "https://localhost:8080/",
     "height": 349
    },
    "outputId": "f2568ce7-3491-47f3-9191-a1dc6f6eee79",
    "executionInfo": {
     "status": "ok",
     "timestamp": 1588493168185,
     "user_tz": -240,
     "elapsed": 208261,
     "user": {
      "displayName": "Hadelin de Ponteves",
      "photoUrl": "https://lh3.googleusercontent.com/a-/AOh14GhEuXdT7eQweUmRPW8_laJuPggSK6hfvpl5a6WBaA=s64",
      "userId": "15047218817161520419"
     }
    },
    "ExecuteTime": {
     "end_time": "2023-07-18T22:33:30.759351Z",
     "start_time": "2023-07-18T22:33:30.659598Z"
    }
   },
   "source": [],
   "execution_count": 4,
   "outputs": []
  },
  {
   "cell_type": "markdown",
   "metadata": {
    "id": "SZ-j28aPihZx",
    "colab_type": "text"
   },
   "source": [
    "## Visualising the Test set results"
   ]
  },
  {
   "cell_type": "code",
   "metadata": {
    "id": "qeTjz2vDilAC",
    "colab_type": "code",
    "colab": {
     "base_uri": "https://localhost:8080/",
     "height": 349
    },
    "outputId": "a5de62bf-6fc1-4109-8749-0386a57d28e9",
    "executionInfo": {
     "status": "ok",
     "timestamp": 1588493372859,
     "user_tz": -240,
     "elapsed": 412932,
     "user": {
      "displayName": "Hadelin de Ponteves",
      "photoUrl": "https://lh3.googleusercontent.com/a-/AOh14GhEuXdT7eQweUmRPW8_laJuPggSK6hfvpl5a6WBaA=s64",
      "userId": "15047218817161520419"
     }
    },
    "ExecuteTime": {
     "end_time": "2023-07-18T22:33:30.759869Z",
     "start_time": "2023-07-18T22:33:30.665814Z"
    }
   },
   "source": [],
   "execution_count": 4,
   "outputs": []
  }
 ]
}
