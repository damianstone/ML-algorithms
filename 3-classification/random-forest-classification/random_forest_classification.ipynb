{
 "nbformat": 4,
 "nbformat_minor": 0,
 "metadata": {
  "colab": {
   "name": "random_forest_classification.ipynb",
   "provenance": [],
   "collapsed_sections": [],
   "toc_visible": true,
   "machine_shape": "hm",
   "authorship_tag": "ABX9TyPA7K2PAkEFgaKFIvslUMEc"
  },
  "kernelspec": {
   "name": "python3",
   "language": "python",
   "display_name": "Python 3 (ipykernel)"
  }
 },
 "cells": [
  {
   "cell_type": "markdown",
   "metadata": {
    "id": "0MRC0e0KhQ0S",
    "colab_type": "text"
   },
   "source": [
    "# Random Forest Classification"
   ]
  },
  {
   "cell_type": "markdown",
   "metadata": {
    "id": "LWd1UlMnhT2s",
    "colab_type": "text"
   },
   "source": [
    "## Importing the libraries"
   ]
  },
  {
   "cell_type": "code",
   "metadata": {
    "id": "YvGPUQaHhXfL",
    "colab_type": "code",
    "colab": {},
    "ExecuteTime": {
     "end_time": "2023-07-07T15:10:52.963194Z",
     "start_time": "2023-07-07T15:10:48.075084Z"
    }
   },
   "source": [
    "import numpy as np\n",
    "import matplotlib.pyplot as plt\n",
    "import pandas as pd"
   ],
   "execution_count": 56,
   "outputs": []
  },
  {
   "cell_type": "markdown",
   "metadata": {
    "id": "K1VMqkGvhc3-",
    "colab_type": "text"
   },
   "source": [
    "## Importing the dataset"
   ]
  },
  {
   "cell_type": "code",
   "metadata": {
    "id": "M52QDmyzhh9s",
    "colab_type": "code",
    "colab": {},
    "ExecuteTime": {
     "end_time": "2023-07-07T15:10:52.963641Z",
     "start_time": "2023-07-07T15:10:50.062461Z"
    }
   },
   "source": [
    "dataset = pd.read_csv('Social_Network_Ads.csv')\n",
    "x = dataset.iloc[:, :-1].values\n",
    "y = dataset.iloc[:, -1].values"
   ],
   "execution_count": 57,
   "outputs": []
  },
  {
   "cell_type": "markdown",
   "metadata": {
    "id": "YvxIPVyMhmKp",
    "colab_type": "text"
   },
   "source": [
    "## Splitting the dataset into the Training set and Test set"
   ]
  },
  {
   "cell_type": "code",
   "metadata": {
    "id": "AVzJWAXIhxoC",
    "colab_type": "code",
    "colab": {},
    "ExecuteTime": {
     "end_time": "2023-07-07T15:10:52.963898Z",
     "start_time": "2023-07-07T15:10:50.104597Z"
    }
   },
   "source": [
    "from sklearn.model_selection import train_test_split\n",
    "x_train, x_test, y_train, y_test = train_test_split(x, y, test_size = 0.25, random_state = 0)"
   ],
   "execution_count": 58,
   "outputs": []
  },
  {
   "cell_type": "markdown",
   "metadata": {
    "id": "kW3c7UYih0hT",
    "colab_type": "text"
   },
   "source": [
    "## Feature Scaling"
   ]
  },
  {
   "cell_type": "code",
   "metadata": {
    "id": "9fQlDPKCh8sc",
    "colab_type": "code",
    "colab": {},
    "ExecuteTime": {
     "end_time": "2023-07-07T15:10:53.036843Z",
     "start_time": "2023-07-07T15:10:51.546217Z"
    }
   },
   "source": [
    "from sklearn.preprocessing import StandardScaler\n",
    "sc = StandardScaler()\n",
    "x_train = sc.fit_transform(x_train)\n",
    "x_test = sc.transform(x_test)\n",
    "\n",
    "print(x_train)"
   ],
   "execution_count": 60,
   "outputs": []
  },
  {
   "cell_type": "markdown",
   "metadata": {
    "id": "bb6jCOCQiAmP",
    "colab_type": "text"
   },
   "source": [
    "## Training the Random Forest Classification model on the Training set"
   ]
  },
  {
   "cell_type": "code",
   "metadata": {
    "id": "e0pFVAmciHQs",
    "colab_type": "code",
    "outputId": "79719013-2ffa-49f6-b49c-886d9ba19525",
    "executionInfo": {
     "status": "ok",
     "timestamp": 1588269343659,
     "user_tz": -240,
     "elapsed": 1589,
     "user": {
      "displayName": "Hadelin de Ponteves",
      "photoUrl": "https://lh3.googleusercontent.com/a-/AOh14GhEuXdT7eQweUmRPW8_laJuPggSK6hfvpl5a6WBaA=s64",
      "userId": "15047218817161520419"
     }
    },
    "colab": {
     "base_uri": "https://localhost:8080/",
     "height": 154
    },
    "ExecuteTime": {
     "end_time": "2023-07-07T15:10:53.038485Z",
     "start_time": "2023-07-07T15:10:51.569890Z"
    }
   },
   "source": [],
   "execution_count": 60,
   "outputs": []
  },
  {
   "cell_type": "markdown",
   "metadata": {
    "id": "yyxW5b395mR2",
    "colab_type": "text"
   },
   "source": [
    "## Predicting a new result"
   ]
  },
  {
   "cell_type": "code",
   "metadata": {
    "id": "f8YOXsQy58rP",
    "colab_type": "code",
    "outputId": "81727e50-9f85-49ad-a41e-5891aa34e6bb",
    "executionInfo": {
     "status": "ok",
     "timestamp": 1588269343660,
     "user_tz": -240,
     "elapsed": 1584,
     "user": {
      "displayName": "Hadelin de Ponteves",
      "photoUrl": "https://lh3.googleusercontent.com/a-/AOh14GhEuXdT7eQweUmRPW8_laJuPggSK6hfvpl5a6WBaA=s64",
      "userId": "15047218817161520419"
     }
    },
    "colab": {
     "base_uri": "https://localhost:8080/",
     "height": 34
    },
    "ExecuteTime": {
     "end_time": "2023-07-07T15:10:53.038818Z",
     "start_time": "2023-07-07T15:10:51.573989Z"
    }
   },
   "source": [
    "pred_data = sc.transform([[30, 87000]])\n",
    "pred_result = classifier.predict(pred_data)\n",
    "\n",
    "print(pred_result)"
   ],
   "execution_count": 60,
   "outputs": []
  },
  {
   "cell_type": "markdown",
   "metadata": {
    "id": "vKYVQH-l5NpE",
    "colab_type": "text"
   },
   "source": [
    "## Predicting the Test set results"
   ]
  },
  {
   "cell_type": "code",
   "metadata": {
    "id": "p6VMTb2O4hwM",
    "colab_type": "code",
    "outputId": "f160d9d3-e4cd-4484-db9d-99028dfed42d",
    "executionInfo": {
     "status": "ok",
     "timestamp": 1588269343660,
     "user_tz": -240,
     "elapsed": 1578,
     "user": {
      "displayName": "Hadelin de Ponteves",
      "photoUrl": "https://lh3.googleusercontent.com/a-/AOh14GhEuXdT7eQweUmRPW8_laJuPggSK6hfvpl5a6WBaA=s64",
      "userId": "15047218817161520419"
     }
    },
    "colab": {
     "base_uri": "https://localhost:8080/",
     "height": 1000
    },
    "ExecuteTime": {
     "end_time": "2023-07-07T15:10:53.039037Z",
     "start_time": "2023-07-07T15:10:51.580642Z"
    }
   },
   "source": [],
   "execution_count": 60,
   "outputs": []
  },
  {
   "cell_type": "markdown",
   "metadata": {
    "id": "h4Hwj34ziWQW",
    "colab_type": "text"
   },
   "source": [
    "## Making the Confusion Matrix"
   ]
  },
  {
   "cell_type": "code",
   "metadata": {
    "id": "D6bpZwUiiXic",
    "colab_type": "code",
    "outputId": "b4ab126b-4118-461e-f02a-cfe538ae6a71",
    "executionInfo": {
     "status": "ok",
     "timestamp": 1588269343985,
     "user_tz": -240,
     "elapsed": 1898,
     "user": {
      "displayName": "Hadelin de Ponteves",
      "photoUrl": "https://lh3.googleusercontent.com/a-/AOh14GhEuXdT7eQweUmRPW8_laJuPggSK6hfvpl5a6WBaA=s64",
      "userId": "15047218817161520419"
     }
    },
    "colab": {
     "base_uri": "https://localhost:8080/",
     "height": 68
    },
    "ExecuteTime": {
     "end_time": "2023-07-07T15:10:53.063946Z",
     "start_time": "2023-07-07T15:10:51.589155Z"
    }
   },
   "source": [],
   "execution_count": 60,
   "outputs": []
  },
  {
   "cell_type": "markdown",
   "metadata": {
    "id": "6OMC_P0diaoD",
    "colab_type": "text"
   },
   "source": [
    "## Visualising the Training set results"
   ]
  },
  {
   "cell_type": "code",
   "metadata": {
    "id": "_NOjKvZRid5l",
    "colab_type": "code",
    "outputId": "7efb744e-3ecb-4303-8543-8fabf49f64bc",
    "executionInfo": {
     "status": "ok",
     "timestamp": 1588269429885,
     "user_tz": -240,
     "elapsed": 87793,
     "user": {
      "displayName": "Hadelin de Ponteves",
      "photoUrl": "https://lh3.googleusercontent.com/a-/AOh14GhEuXdT7eQweUmRPW8_laJuPggSK6hfvpl5a6WBaA=s64",
      "userId": "15047218817161520419"
     }
    },
    "colab": {
     "base_uri": "https://localhost:8080/",
     "height": 349
    },
    "ExecuteTime": {
     "end_time": "2023-07-07T15:10:53.064413Z",
     "start_time": "2023-07-07T15:10:51.595973Z"
    }
   },
   "source": [
    "from matplotlib.colors import ListedColormap\n",
    "\n",
    "X_set, y_set = sc.inverse_transform(x_train), y_train\n",
    "X1, X2 = np.meshgrid(np.arange(start = X_set[:, 0].min() - 10, stop = X_set[:, 0].max() + 10, step = 0.25),\n",
    "                     np.arange(start = X_set[:, 1].min() - 1000, stop = X_set[:, 1].max() + 1000, step = 0.25))\n",
    "plt.contourf(X1, X2, classifier.predict(sc.transform(np.array([X1.ravel(), X2.ravel()]).T)).reshape(X1.shape),\n",
    "             alpha = 0.75, cmap = ListedColormap(('red', 'green')))\n",
    "plt.xlim(X1.min(), X1.max())\n",
    "plt.ylim(X2.min(), X2.max())\n",
    "for i, j in enumerate(np.unique(y_set)):\n",
    "    plt.scatter(X_set[y_set == j, 0], X_set[y_set == j, 1], c = ListedColormap(('red', 'green'))(i), label = j)\n",
    "plt.title('Random Forest Classification (Training set)')\n",
    "plt.xlabel('Age')\n",
    "plt.ylabel('Estimated Salary')\n",
    "plt.legend()\n",
    "plt.show()"
   ],
   "execution_count": 60,
   "outputs": []
  },
  {
   "cell_type": "markdown",
   "metadata": {
    "id": "SZ-j28aPihZx",
    "colab_type": "text"
   },
   "source": [
    "## Visualising the Test set results"
   ]
  },
  {
   "cell_type": "code",
   "metadata": {
    "id": "qeTjz2vDilAC",
    "colab_type": "code",
    "outputId": "f1a33b1a-e8b6-4b3e-e98a-a0c7c66fed56",
    "executionInfo": {
     "status": "ok",
     "timestamp": 1588269514574,
     "user_tz": -240,
     "elapsed": 172477,
     "user": {
      "displayName": "Hadelin de Ponteves",
      "photoUrl": "https://lh3.googleusercontent.com/a-/AOh14GhEuXdT7eQweUmRPW8_laJuPggSK6hfvpl5a6WBaA=s64",
      "userId": "15047218817161520419"
     }
    },
    "colab": {
     "base_uri": "https://localhost:8080/",
     "height": 349
    },
    "ExecuteTime": {
     "end_time": "2023-07-07T15:10:53.064652Z",
     "start_time": "2023-07-07T15:10:51.601268Z"
    }
   },
   "source": [
    "from matplotlib.colors import ListedColormap\n",
    "\n",
    "X_set, y_set = sc.inverse_transform(x_test), y_test\n",
    "X1, X2 = np.meshgrid(np.arange(start = X_set[:, 0].min() - 10, stop = X_set[:, 0].max() + 10, step = 0.25),\n",
    "                     np.arange(start = X_set[:, 1].min() - 1000, stop = X_set[:, 1].max() + 1000, step = 0.25))\n",
    "plt.contourf(X1, X2, classifier.predict(sc.transform(np.array([X1.ravel(), X2.ravel()]).T)).reshape(X1.shape),\n",
    "             alpha = 0.75, cmap = ListedColormap(('red', 'green')))\n",
    "plt.xlim(X1.min(), X1.max())\n",
    "plt.ylim(X2.min(), X2.max())\n",
    "for i, j in enumerate(np.unique(y_set)):\n",
    "    plt.scatter(X_set[y_set == j, 0], X_set[y_set == j, 1], c = ListedColormap(('red', 'green'))(i), label = j)\n",
    "plt.title('Random Forest Classification (Test set)')\n",
    "plt.xlabel('Age')\n",
    "plt.ylabel('Estimated Salary')\n",
    "plt.legend()\n",
    "plt.show()"
   ],
   "execution_count": 60,
   "outputs": []
  }
 ]
}
