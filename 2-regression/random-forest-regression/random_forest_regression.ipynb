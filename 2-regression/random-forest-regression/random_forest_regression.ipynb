{
 "nbformat": 4,
 "nbformat_minor": 0,
 "metadata": {
  "colab": {
   "name": "random_forest_regression.ipynb",
   "provenance": [],
   "toc_visible": true
  },
  "kernelspec": {
   "name": "python3",
   "language": "python",
   "display_name": "Python 3 (ipykernel)"
  }
 },
 "cells": [
  {
   "cell_type": "markdown",
   "metadata": {
    "id": "LeamvpPVXuS_",
    "colab_type": "text"
   },
   "source": [
    "# Random Forest Regression"
   ]
  },
  {
   "cell_type": "markdown",
   "metadata": {
    "id": "O2wvZ7SKXzVC",
    "colab_type": "text"
   },
   "source": [
    "## Importing the libraries"
   ]
  },
  {
   "cell_type": "code",
   "metadata": {
    "id": "PVmESEFZX4Ig",
    "colab_type": "code",
    "colab": {},
    "ExecuteTime": {
     "end_time": "2023-07-06T02:12:48.665050Z",
     "start_time": "2023-07-06T02:12:48.616097Z"
    }
   },
   "source": [
    "import numpy as np\n",
    "import matplotlib.pyplot as plt\n",
    "import pandas as pd"
   ],
   "execution_count": 11,
   "outputs": []
  },
  {
   "cell_type": "markdown",
   "metadata": {
    "id": "zgbK_F8-X7em",
    "colab_type": "text"
   },
   "source": [
    "## Importing the dataset"
   ]
  },
  {
   "cell_type": "code",
   "metadata": {
    "id": "adBE4tjQX_Bh",
    "colab_type": "code",
    "colab": {},
    "ExecuteTime": {
     "end_time": "2023-07-06T02:12:48.665864Z",
     "start_time": "2023-07-06T02:12:48.632571Z"
    }
   },
   "source": [
    "dataset = pd.read_csv('Position_Salaries.csv')\n",
    "X = dataset.iloc[:, 1:-1].values\n",
    "y = dataset.iloc[:, -1].values"
   ],
   "execution_count": 12,
   "outputs": []
  },
  {
   "cell_type": "markdown",
   "metadata": {
    "id": "v4S2fyIBYDcu",
    "colab_type": "text"
   },
   "source": [
    "## Training the Random Forest Regression model on the whole dataset"
   ]
  },
  {
   "cell_type": "code",
   "metadata": {
    "id": "o8dOCoJ1YKMc",
    "colab_type": "code",
    "outputId": "8894f460-d2de-44ab-d79b-9e69dffb12cb",
    "colab": {
     "base_uri": "https://localhost:8080/",
     "height": 139
    },
    "is_executing": true,
    "ExecuteTime": {
     "start_time": "2023-07-06T02:12:48.641605Z"
    }
   },
   "source": [
    "from sklearn.ensemble import RandomForestRegressor\n",
    "regressor = RandomForestRegressor(n_estimators = 10, random_state = 0)\n",
    "regressor.fit(X, y)"
   ],
   "execution_count": null,
   "outputs": []
  },
  {
   "cell_type": "markdown",
   "metadata": {
    "id": "8IbsXbK3YM4M",
    "colab_type": "text"
   },
   "source": [
    "## Predicting a new result"
   ]
  },
  {
   "cell_type": "code",
   "metadata": {
    "id": "pTXrS8FEYQlJ",
    "colab_type": "code",
    "colab": {
     "base_uri": "https://localhost:8080/",
     "height": 35
    },
    "outputId": "6bfe8b5e-125c-43ce-ee32-d2f53477e0ee",
    "is_executing": true
   },
   "source": [
    "regressor.predict([[6.5]])"
   ],
   "execution_count": null,
   "outputs": []
  },
  {
   "cell_type": "markdown",
   "metadata": {
    "id": "kLqF9yMbYTon",
    "colab_type": "text"
   },
   "source": [
    "## Visualising the Random Forest Regression results (higher resolution)"
   ]
  },
  {
   "cell_type": "code",
   "metadata": {
    "id": "BMlTBifVYWNr",
    "colab_type": "code",
    "outputId": "71439b75-32b1-444b-a9ee-7ae0672cea82",
    "colab": {
     "base_uri": "https://localhost:8080/",
     "height": 295
    },
    "is_executing": true
   },
   "source": [
    "X_grid = np.arange(min(X), max(X), 0.01)\n",
    "X_grid = X_grid.reshape((len(X_grid), 1))\n",
    "plt.scatter(X, y, color = 'red')\n",
    "plt.plot(X_grid, regressor.predict(X_grid), color = 'blue')\n",
    "plt.title('Truth or Bluff (Random Forest Regression)')\n",
    "plt.xlabel('Position level')\n",
    "plt.ylabel('Salary')\n",
    "plt.show()"
   ],
   "execution_count": null,
   "outputs": []
  }
 ]
}
