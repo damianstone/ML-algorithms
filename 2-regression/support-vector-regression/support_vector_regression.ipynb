{
 "cells": [
  {
   "cell_type": "markdown",
   "source": [
    "# Support Vector Regression (SVR)"
   ],
   "metadata": {
    "collapsed": false
   }
  },
  {
   "cell_type": "markdown",
   "source": [
    "### Data preprocessing"
   ],
   "metadata": {
    "collapsed": false
   }
  },
  {
   "cell_type": "code",
   "execution_count": 27,
   "metadata": {
    "collapsed": true,
    "ExecuteTime": {
     "end_time": "2023-07-02T18:38:21.956023Z",
     "start_time": "2023-07-02T18:38:21.948183Z"
    }
   },
   "outputs": [],
   "source": [
    "import numpy as np\n",
    "import pandas as pd\n",
    "import matplotlib.pyplot as plt\n",
    "\n",
    "dataset = pd.read_csv('position_salaries.csv')\n",
    "\n",
    "# features (from the second column since the first is the same as the second but as categorical)\n",
    "x = dataset.iloc[:, 1:-1].values\n",
    "\n",
    "# dependent variable (last column)\n",
    "y = dataset.iloc[:, -1].values\n",
    "\n",
    "# Reshape Y in 2d array => because when we apply StandardScale, the fit_transform method expects a 2d array\n",
    "# reshape(rows, columns)\n",
    "y = y.reshape(len(y),1)"
   ]
  },
  {
   "cell_type": "markdown",
   "source": [
    "### Feature scaling"
   ],
   "metadata": {
    "collapsed": false
   }
  },
  {
   "cell_type": "code",
   "execution_count": 28,
   "outputs": [],
   "source": [
    "# feature scaling for both: features and dependent variable\n",
    "# Feature scaling ensures that all features and the dependent variable are on a similar scale, which helps in achieving better performance and accurate predictions\n",
    "\n",
    "from sklearn.preprocessing import StandardScaler\n",
    "\n",
    "# subtracts the mean from each feature and divides by the standard deviation\n",
    "sc_x = StandardScaler()\n",
    "sc_y = StandardScaler()\n",
    "\n",
    "x = sc_x.fit_transform(x)\n",
    "y = sc_y.fit_transform(y)\n"
   ],
   "metadata": {
    "collapsed": false,
    "ExecuteTime": {
     "end_time": "2023-07-02T18:38:21.969418Z",
     "start_time": "2023-07-02T18:38:21.964591Z"
    }
   }
  },
  {
   "cell_type": "markdown",
   "source": [
    "### SVR model"
   ],
   "metadata": {
    "collapsed": false
   }
  },
  {
   "cell_type": "code",
   "execution_count": null,
   "outputs": [],
   "source": [
    "from sklearn.svm import SVR\n",
    "\n",
    "# train the SVR model\n",
    "regressor = SVR(kernel='rbf')\n",
    "regressor.fit(x, y)\n",
    "\n",
    "# Predicting a new result\n",
    "regressor.predict(sc_x.transform([[6.5]]))\n",
    "\n",
    "\n"
   ],
   "metadata": {
    "collapsed": false
   }
  }
 ],
 "metadata": {
  "kernelspec": {
   "display_name": "Python 3",
   "language": "python",
   "name": "python3"
  },
  "language_info": {
   "codemirror_mode": {
    "name": "ipython",
    "version": 2
   },
   "file_extension": ".py",
   "mimetype": "text/x-python",
   "name": "python",
   "nbconvert_exporter": "python",
   "pygments_lexer": "ipython2",
   "version": "2.7.6"
  }
 },
 "nbformat": 4,
 "nbformat_minor": 0
}
