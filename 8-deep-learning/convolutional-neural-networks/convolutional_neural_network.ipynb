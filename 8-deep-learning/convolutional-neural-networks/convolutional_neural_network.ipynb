{
 "nbformat": 4,
 "nbformat_minor": 0,
 "metadata": {
  "colab": {
   "name": "convolutional_neural_network.ipynb",
   "provenance": [],
   "collapsed_sections": [],
   "toc_visible": true
  },
  "kernelspec": {
   "name": "python3",
   "display_name": "Python 3 (ipykernel)",
   "language": "python"
  }
 },
 "cells": [
  {
   "cell_type": "markdown",
   "metadata": {
    "id": "3DR-eO17geWu",
    "colab_type": "text"
   },
   "source": [
    "# Convolutional Neural Network"
   ]
  },
  {
   "cell_type": "markdown",
   "metadata": {
    "id": "EMefrVPCg-60",
    "colab_type": "text"
   },
   "source": [
    "### Importing the libraries"
   ]
  },
  {
   "cell_type": "code",
   "metadata": {
    "id": "sCV30xyVhFbE",
    "colab_type": "code",
    "colab": {},
    "ExecuteTime": {
     "end_time": "2024-07-21T13:07:38.642203Z",
     "start_time": "2024-07-21T13:07:30.689255Z"
    }
   },
   "source": [
    "import tensorflow as tf\n",
    "from keras.preprocessing.image import ImageDataGenerator"
   ],
   "outputs": [
    {
     "name": "stderr",
     "output_type": "stream",
     "text": [
      "2024-07-21 14:07:33.454178: I tensorflow/core/platform/cpu_feature_guard.cc:182] This TensorFlow binary is optimized to use available CPU instructions in performance-critical operations.\n",
      "To enable the following instructions: AVX2 FMA, in other operations, rebuild TensorFlow with the appropriate compiler flags.\n"
     ]
    }
   ],
   "execution_count": 1
  },
  {
   "cell_type": "code",
   "metadata": {
    "id": "FIleuCAjoFD8",
    "colab_type": "code",
    "colab": {},
    "ExecuteTime": {
     "end_time": "2024-07-15T20:32:28.394399Z",
     "start_time": "2024-07-15T20:32:28.390030Z"
    }
   },
   "source": [
    "tf.__version__"
   ],
   "outputs": [
    {
     "data": {
      "text/plain": [
       "'2.12.0'"
      ]
     },
     "execution_count": 13,
     "metadata": {},
     "output_type": "execute_result"
    }
   ],
   "execution_count": 13
  },
  {
   "cell_type": "markdown",
   "metadata": {
    "id": "oxQxCBWyoGPE",
    "colab_type": "text"
   },
   "source": [
    "## Part 1 - Data Preprocessing"
   ]
  },
  {
   "cell_type": "markdown",
   "metadata": {
    "id": "MvE-heJNo3GG",
    "colab_type": "text"
   },
   "source": [
    "### Preprocessing the Training set"
   ]
  },
  {
   "cell_type": "code",
   "metadata": {
    "id": "0koUcJMJpEBD",
    "colab_type": "code",
    "colab": {},
    "ExecuteTime": {
     "end_time": "2024-07-15T20:32:28.823366Z",
     "start_time": "2024-07-15T20:32:28.397778Z"
    }
   },
   "source": [
    "\"\"\"\n",
    "apply transformtions to prevent overfitting -> geometrical transformations like zooms, rotations, etc \n",
    "to make the images more diverses -> this is called augmentation\n",
    "\"\"\"\n",
    "\n",
    "train_datagen = ImageDataGenerator(rescale = 1./255, # feature scaling\n",
    "                                   shear_range = 0.2,\n",
    "                                   zoom_range = 0.2,\n",
    "                                   horizontal_flip = True)\n",
    "\n",
    "# flow_from_directory = connects the augmentation class with the images dataset\n",
    "training_set = train_datagen.flow_from_directory('dataset/training_set',\n",
    "                                                 target_size = (64, 64), # less target_size = more fast training\n",
    "                                                 batch_size = 32,\n",
    "                                                 class_mode = 'binary') # binary as outout can be cat or dogs"
   ],
   "outputs": [
    {
     "name": "stdout",
     "output_type": "stream",
     "text": [
      "Found 8000 images belonging to 2 classes.\n"
     ]
    }
   ],
   "execution_count": 14
  },
  {
   "cell_type": "markdown",
   "metadata": {
    "id": "mrCMmGw9pHys",
    "colab_type": "text"
   },
   "source": [
    "### Preprocessing the Test set"
   ]
  },
  {
   "cell_type": "code",
   "metadata": {
    "id": "SH4WzfOhpKc3",
    "colab_type": "code",
    "colab": {},
    "ExecuteTime": {
     "end_time": "2024-07-15T20:32:28.928738Z",
     "start_time": "2024-07-15T20:32:28.825451Z"
    }
   },
   "source": [
    "test_datagen = ImageDataGenerator(rescale = 1./255)\n",
    "\n",
    "test_set = test_datagen.flow_from_directory('dataset/test_set',\n",
    "                                            target_size = (64, 64),\n",
    "                                            batch_size = 32,\n",
    "                                            class_mode = 'binary')"
   ],
   "outputs": [
    {
     "name": "stdout",
     "output_type": "stream",
     "text": [
      "Found 2000 images belonging to 2 classes.\n"
     ]
    }
   ],
   "execution_count": 15
  },
  {
   "cell_type": "markdown",
   "metadata": {
    "id": "af8O4l90gk7B",
    "colab_type": "text"
   },
   "source": [
    "## Part 2 - Building the CNN"
   ]
  },
  {
   "cell_type": "markdown",
   "metadata": {
    "id": "ces1gXY2lmoX",
    "colab_type": "text"
   },
   "source": [
    "### Initialising the CNN"
   ]
  },
  {
   "cell_type": "code",
   "metadata": {
    "id": "SAUt4UMPlhLS",
    "colab_type": "code",
    "colab": {},
    "ExecuteTime": {
     "end_time": "2024-07-15T20:32:28.937377Z",
     "start_time": "2024-07-15T20:32:28.931538Z"
    }
   },
   "source": "cnn = tf.keras.models.Sequential()",
   "outputs": [],
   "execution_count": 16
  },
  {
   "cell_type": "markdown",
   "metadata": {
    "id": "u5YJj_XMl5LF",
    "colab_type": "text"
   },
   "source": [
    "### Step 1 - Convolution"
   ]
  },
  {
   "cell_type": "code",
   "metadata": {
    "id": "XPzPrMckl-hV",
    "colab_type": "code",
    "colab": {},
    "ExecuteTime": {
     "end_time": "2024-07-15T20:32:28.959181Z",
     "start_time": "2024-07-15T20:32:28.940548Z"
    }
   },
   "source": [
    "\"\"\"\n",
    "input shape = target_size in the flow_from_directory,\n",
    "we put 3 at the end because we are working with color images,\n",
    "if it was black/white images, this would be 1\n",
    "\"\"\"\n",
    "\n",
    "convolution = tf.keras.layers.Conv2D(\n",
    "    filters = 32,\n",
    "    kernel_size = 3, # means a matrix 3x3\n",
    "    activation = 'relu', \n",
    "    input_shape = [64, 64, 3]\n",
    ")\n",
    "\n",
    "# add the layer\n",
    "cnn.add(convolution)"
   ],
   "outputs": [],
   "execution_count": 17
  },
  {
   "cell_type": "markdown",
   "metadata": {
    "id": "tf87FpvxmNOJ",
    "colab_type": "text"
   },
   "source": [
    "### Step 2 - Pooling"
   ]
  },
  {
   "cell_type": "code",
   "metadata": {
    "id": "ncpqPl69mOac",
    "colab_type": "code",
    "colab": {},
    "ExecuteTime": {
     "end_time": "2024-07-15T20:32:28.970167Z",
     "start_time": "2024-07-15T20:32:28.960674Z"
    }
   },
   "source": [
    "# to get the pooled feature map, getting the max pixels when applying the kernel\n",
    "\n",
    "\"\"\"\n",
    "pool_size = max pixel mapping by 2x2\n",
    "strides = how many pixels we move along when applying the pool size kernel\n",
    "\"\"\"\n",
    "pooling = tf.keras.layers.MaxPooling2D(pool_size = 2, strides = 2)\n",
    "\n",
    "cnn.add(pooling)"
   ],
   "outputs": [],
   "execution_count": 18
  },
  {
   "cell_type": "markdown",
   "metadata": {
    "id": "xaTOgD8rm4mU",
    "colab_type": "text"
   },
   "source": [
    "### Adding a second convolutional layer"
   ]
  },
  {
   "cell_type": "code",
   "metadata": {
    "id": "i_-FZjn_m8gk",
    "colab_type": "code",
    "colab": {},
    "ExecuteTime": {
     "end_time": "2024-07-15T20:32:28.995079Z",
     "start_time": "2024-07-15T20:32:28.973413Z"
    }
   },
   "source": [
    "convolution = tf.keras.layers.Conv2D(\n",
    "    filters = 32,\n",
    "    kernel_size = 3,\n",
    "    activation = 'relu',\n",
    ")\n",
    "\n",
    "# add the layer\n",
    "cnn.add(convolution)\n",
    "\n",
    "pooling = tf.keras.layers.MaxPooling2D(pool_size = 2, strides = 2)\n",
    "\n",
    "# add the layer\n",
    "cnn.add(pooling)"
   ],
   "outputs": [],
   "execution_count": 19
  },
  {
   "cell_type": "markdown",
   "metadata": {
    "id": "tmiEuvTunKfk",
    "colab_type": "text"
   },
   "source": [
    "### Step 3 - Flattening"
   ]
  },
  {
   "cell_type": "code",
   "metadata": {
    "id": "6AZeOGCvnNZn",
    "colab_type": "code",
    "colab": {},
    "ExecuteTime": {
     "end_time": "2024-07-15T20:32:29.008778Z",
     "start_time": "2024-07-15T20:32:28.998207Z"
    }
   },
   "source": "cnn.add(tf.keras.layers.Flatten())",
   "outputs": [],
   "execution_count": 20
  },
  {
   "cell_type": "markdown",
   "metadata": {
    "id": "dAoSECOm203v",
    "colab_type": "text"
   },
   "source": [
    "### Step 4 - Full Connection"
   ]
  },
  {
   "cell_type": "code",
   "metadata": {
    "id": "8GtmUlLd26Nq",
    "colab_type": "code",
    "colab": {},
    "ExecuteTime": {
     "end_time": "2024-07-15T20:32:29.034968Z",
     "start_time": "2024-07-15T20:32:29.010999Z"
    }
   },
   "source": [
    "# neurons layer\n",
    "cnn.add(tf.keras.layers.Dense(units=128, activation='relu'))"
   ],
   "outputs": [],
   "execution_count": 21
  },
  {
   "cell_type": "markdown",
   "metadata": {
    "id": "yTldFvbX28Na",
    "colab_type": "text"
   },
   "source": [
    "### Step 5 - Output Layer"
   ]
  },
  {
   "cell_type": "code",
   "metadata": {
    "id": "1p_Zj1Mc3Ko_",
    "colab_type": "code",
    "colab": {},
    "ExecuteTime": {
     "end_time": "2024-07-15T20:32:29.055240Z",
     "start_time": "2024-07-15T20:32:29.036636Z"
    }
   },
   "source": [
    "# only need one neuron as binary classification\n",
    "cnn.add(tf.keras.layers.Dense(units=1, activation='sigmoid'))"
   ],
   "outputs": [],
   "execution_count": 22
  },
  {
   "cell_type": "markdown",
   "metadata": {
    "id": "D6XkI90snSDl",
    "colab_type": "text"
   },
   "source": [
    "## Part 3 - Training the CNN"
   ]
  },
  {
   "cell_type": "markdown",
   "metadata": {
    "id": "vfrFQACEnc6i",
    "colab_type": "text"
   },
   "source": [
    "### Compiling the CNN"
   ]
  },
  {
   "cell_type": "code",
   "metadata": {
    "id": "NALksrNQpUlJ",
    "colab_type": "code",
    "colab": {},
    "ExecuteTime": {
     "end_time": "2024-07-15T20:32:29.074410Z",
     "start_time": "2024-07-15T20:32:29.059212Z"
    }
   },
   "source": [
    "cnn.compile(\n",
    "    optimizer ='adam', # stochastic gradient descent \n",
    "    loss= 'binary_crossentropy',\n",
    "    metrics = ['accuracy']\n",
    ")"
   ],
   "outputs": [],
   "execution_count": 23
  },
  {
   "cell_type": "markdown",
   "metadata": {
    "id": "ehS-v3MIpX2h",
    "colab_type": "text"
   },
   "source": [
    "### Training the CNN on the Training set and evaluating it on the Test set"
   ]
  },
  {
   "cell_type": "code",
   "metadata": {
    "id": "XUj1W4PJptta",
    "colab_type": "code",
    "colab": {},
    "ExecuteTime": {
     "end_time": "2024-07-15T20:47:48.130317Z",
     "start_time": "2024-07-15T20:32:29.076256Z"
    }
   },
   "source": [
    "cnn.fit(\n",
    "    x=training_set,\n",
    "    validation_data=test_set,\n",
    "    epochs = 25\n",
    ")"
   ],
   "outputs": [
    {
     "name": "stdout",
     "output_type": "stream",
     "text": [
      "Epoch 1/25\n"
     ]
    },
    {
     "name": "stderr",
     "output_type": "stream",
     "text": [
      "2024-07-15 21:32:29.244013: I tensorflow/core/common_runtime/executor.cc:1197] [/device:CPU:0] (DEBUG INFO) Executor start aborting (this does not indicate an error and you can ignore this message): INVALID_ARGUMENT: You must feed a value for placeholder tensor 'Placeholder/_0' with dtype int32\n",
      "\t [[{{node Placeholder/_0}}]]\n"
     ]
    },
    {
     "name": "stdout",
     "output_type": "stream",
     "text": [
      "250/250 [==============================] - ETA: 0s - loss: 0.6672 - accuracy: 0.5876"
     ]
    },
    {
     "name": "stderr",
     "output_type": "stream",
     "text": [
      "2024-07-15 21:32:58.452982: I tensorflow/core/common_runtime/executor.cc:1197] [/device:CPU:0] (DEBUG INFO) Executor start aborting (this does not indicate an error and you can ignore this message): INVALID_ARGUMENT: You must feed a value for placeholder tensor 'Placeholder/_0' with dtype int32\n",
      "\t [[{{node Placeholder/_0}}]]\n"
     ]
    },
    {
     "name": "stdout",
     "output_type": "stream",
     "text": [
      "250/250 [==============================] - 34s 131ms/step - loss: 0.6672 - accuracy: 0.5876 - val_loss: 0.6297 - val_accuracy: 0.6630\n",
      "Epoch 2/25\n",
      "250/250 [==============================] - 33s 133ms/step - loss: 0.6023 - accuracy: 0.6718 - val_loss: 0.5897 - val_accuracy: 0.6880\n",
      "Epoch 3/25\n",
      "250/250 [==============================] - 34s 136ms/step - loss: 0.5678 - accuracy: 0.7028 - val_loss: 0.5272 - val_accuracy: 0.7530\n",
      "Epoch 4/25\n",
      "250/250 [==============================] - 34s 136ms/step - loss: 0.5385 - accuracy: 0.7318 - val_loss: 0.5079 - val_accuracy: 0.7520\n",
      "Epoch 5/25\n",
      "250/250 [==============================] - 37s 146ms/step - loss: 0.5103 - accuracy: 0.7464 - val_loss: 0.5084 - val_accuracy: 0.7630\n",
      "Epoch 6/25\n",
      "250/250 [==============================] - 35s 139ms/step - loss: 0.4911 - accuracy: 0.7590 - val_loss: 0.4888 - val_accuracy: 0.7630\n",
      "Epoch 7/25\n",
      "250/250 [==============================] - 40s 160ms/step - loss: 0.4746 - accuracy: 0.7724 - val_loss: 0.5010 - val_accuracy: 0.7580\n",
      "Epoch 8/25\n",
      "250/250 [==============================] - 39s 155ms/step - loss: 0.4620 - accuracy: 0.7795 - val_loss: 0.5152 - val_accuracy: 0.7555\n",
      "Epoch 9/25\n",
      "250/250 [==============================] - 40s 160ms/step - loss: 0.4560 - accuracy: 0.7761 - val_loss: 0.5529 - val_accuracy: 0.7285\n",
      "Epoch 10/25\n",
      "250/250 [==============================] - 41s 162ms/step - loss: 0.4370 - accuracy: 0.7956 - val_loss: 0.5333 - val_accuracy: 0.7475\n",
      "Epoch 11/25\n",
      "250/250 [==============================] - 37s 149ms/step - loss: 0.4270 - accuracy: 0.8061 - val_loss: 0.4721 - val_accuracy: 0.7810\n",
      "Epoch 12/25\n",
      "250/250 [==============================] - 35s 142ms/step - loss: 0.4181 - accuracy: 0.8054 - val_loss: 0.5212 - val_accuracy: 0.7415\n",
      "Epoch 13/25\n",
      "250/250 [==============================] - 38s 153ms/step - loss: 0.4021 - accuracy: 0.8180 - val_loss: 0.5377 - val_accuracy: 0.7475\n",
      "Epoch 14/25\n",
      "250/250 [==============================] - 34s 136ms/step - loss: 0.3941 - accuracy: 0.8216 - val_loss: 0.5425 - val_accuracy: 0.7445\n",
      "Epoch 15/25\n",
      "250/250 [==============================] - 32s 127ms/step - loss: 0.3826 - accuracy: 0.8230 - val_loss: 0.4543 - val_accuracy: 0.7970\n",
      "Epoch 16/25\n",
      "250/250 [==============================] - 34s 135ms/step - loss: 0.3663 - accuracy: 0.8361 - val_loss: 0.4905 - val_accuracy: 0.7865\n",
      "Epoch 17/25\n",
      "250/250 [==============================] - 35s 140ms/step - loss: 0.3660 - accuracy: 0.8342 - val_loss: 0.4662 - val_accuracy: 0.7965\n",
      "Epoch 18/25\n",
      "250/250 [==============================] - 38s 151ms/step - loss: 0.3527 - accuracy: 0.8397 - val_loss: 0.4794 - val_accuracy: 0.7975\n",
      "Epoch 19/25\n",
      "250/250 [==============================] - 38s 153ms/step - loss: 0.3317 - accuracy: 0.8550 - val_loss: 0.4967 - val_accuracy: 0.8050\n",
      "Epoch 20/25\n",
      "250/250 [==============================] - 35s 139ms/step - loss: 0.3283 - accuracy: 0.8520 - val_loss: 0.4689 - val_accuracy: 0.8060\n",
      "Epoch 21/25\n",
      "250/250 [==============================] - 36s 145ms/step - loss: 0.3231 - accuracy: 0.8574 - val_loss: 0.4742 - val_accuracy: 0.8015\n",
      "Epoch 22/25\n",
      "250/250 [==============================] - 40s 160ms/step - loss: 0.3063 - accuracy: 0.8656 - val_loss: 0.4896 - val_accuracy: 0.7960\n",
      "Epoch 23/25\n",
      "250/250 [==============================] - 35s 139ms/step - loss: 0.2973 - accuracy: 0.8687 - val_loss: 0.5238 - val_accuracy: 0.7955\n",
      "Epoch 24/25\n",
      "250/250 [==============================] - 48s 190ms/step - loss: 0.2789 - accuracy: 0.8842 - val_loss: 0.5334 - val_accuracy: 0.7820\n",
      "Epoch 25/25\n",
      "250/250 [==============================] - 38s 152ms/step - loss: 0.2778 - accuracy: 0.8788 - val_loss: 0.6493 - val_accuracy: 0.7560\n"
     ]
    },
    {
     "data": {
      "text/plain": [
       "<keras.callbacks.History at 0x7fba38467ca0>"
      ]
     },
     "execution_count": 24,
     "metadata": {},
     "output_type": "execute_result"
    }
   ],
   "execution_count": 24
  },
  {
   "cell_type": "markdown",
   "metadata": {
    "id": "U3PZasO0006Z",
    "colab_type": "text"
   },
   "source": [
    "## Part 4 - Making a single prediction"
   ]
  },
  {
   "cell_type": "code",
   "metadata": {
    "id": "gsSiWEJY1BPB",
    "colab_type": "code",
    "colab": {},
    "ExecuteTime": {
     "end_time": "2024-07-15T20:48:47.742083Z",
     "start_time": "2024-07-15T20:48:47.673793Z"
    }
   },
   "source": [
    "import numpy as np\n",
    "import keras.utils as image\n",
    "# from keras.preprocessing import image\n",
    "\n",
    "test_image = image.load_img('dataset/single_prediction/cat_or_dog_1.jpeg', target_size = (64, 64))\n",
    "test_image = image.img_to_array(test_image)\n",
    "\n",
    "# adding it to a batch because the cnn understand in term of batches not single images (a batch can have just one image)\n",
    "test_image = np.expand_dims(test_image, axis = 0) #\n",
    "\n",
    "result = cnn.predict(test_image)\n",
    "\n",
    "# \n",
    "training_set.class_indices\n",
    "\n",
    "if result[0][0] == 1:\n",
    "  prediction = 'dog'\n",
    "else:\n",
    "  prediction = 'cat'\n",
    "  "
   ],
   "outputs": [
    {
     "name": "stdout",
     "output_type": "stream",
     "text": [
      "1/1 [==============================] - 0s 21ms/step\n"
     ]
    }
   ],
   "execution_count": 34
  },
  {
   "cell_type": "code",
   "metadata": {
    "id": "ED9KB3I54c1i",
    "colab_type": "code",
    "colab": {},
    "ExecuteTime": {
     "end_time": "2024-07-15T20:48:49.594162Z",
     "start_time": "2024-07-15T20:48:49.589405Z"
    }
   },
   "source": [
    "print(prediction)"
   ],
   "outputs": [
    {
     "name": "stdout",
     "output_type": "stream",
     "text": [
      "dog\n"
     ]
    }
   ],
   "execution_count": 35
  }
 ]
}
