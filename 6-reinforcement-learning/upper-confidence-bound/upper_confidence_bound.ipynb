{
 "nbformat": 4,
 "nbformat_minor": 0,
 "metadata": {
  "colab": {
   "name": "Upper Confidence Bound",
   "provenance": [],
   "collapsed_sections": [],
   "toc_visible": true,
   "authorship_tag": "ABX9TyMz+roSgJuEsprRsPKmwoVD"
  },
  "kernelspec": {
   "name": "python3",
   "language": "python",
   "display_name": "Python 3 (ipykernel)"
  }
 },
 "cells": [
  {
   "cell_type": "markdown",
   "metadata": {
    "id": "QJdrJJQUv3-k",
    "colab_type": "text"
   },
   "source": [
    "# Upper Confidence Bound (UCB)"
   ]
  },
  {
   "cell_type": "markdown",
   "metadata": {
    "id": "2XCjepjJwEv-",
    "colab_type": "text"
   },
   "source": [
    "## Importing the libraries"
   ]
  },
  {
   "cell_type": "code",
   "metadata": {
    "id": "l_mBkG3YwNTt",
    "colab_type": "code",
    "colab": {},
    "ExecuteTime": {
     "end_time": "2023-12-12T19:47:23.297453Z",
     "start_time": "2023-12-12T19:47:14.614396Z"
    }
   },
   "source": [
    "import numpy as np\n",
    "import matplotlib.pyplot as plt\n",
    "import pandas as pd"
   ],
   "execution_count": 1,
   "outputs": []
  },
  {
   "cell_type": "markdown",
   "metadata": {
    "id": "npqlXjaNwYTv",
    "colab_type": "text"
   },
   "source": [
    "## Importing the dataset"
   ]
  },
  {
   "cell_type": "code",
   "metadata": {
    "id": "HMJfUVLVwcFc",
    "colab_type": "code",
    "colab": {},
    "ExecuteTime": {
     "end_time": "2023-12-12T19:47:23.314437Z",
     "start_time": "2023-12-12T19:47:23.305768Z"
    }
   },
   "source": [
    "\"\"\"\n",
    "10 differents ads \n",
    "record of clicks on ads\n",
    "\"\"\"\n",
    "dataset = pd.read_csv('Ads_CTR_Optimisation.csv')"
   ],
   "execution_count": 2,
   "outputs": []
  },
  {
   "cell_type": "markdown",
   "metadata": {
    "id": "PaSbots_wfoB",
    "colab_type": "text"
   },
   "source": [
    "## Implementing UCB"
   ]
  },
  {
   "cell_type": "code",
   "metadata": {
    "id": "V1K7jgDFwkRd",
    "colab_type": "code",
    "colab": {},
    "ExecuteTime": {
     "end_time": "2023-12-12T19:47:23.323516Z",
     "start_time": "2023-12-12T19:47:23.316336Z"
    }
   },
   "source": [
    "import math\n",
    "\n",
    "n_of_users = 10000\n",
    "n_of_ads = 10\n",
    "ads_selected = []\n",
    "\n",
    "# everytine the add is selected we increment this list of full zeros \n",
    "n_of_selections = [0000000000] # 0 zeros coz 10 ads\n",
    "sums_of_rewards = [0000000000] # 0 zeros coz 10 ads\n",
    "total_rewards = 0\n",
    "\n",
    "for n in range(0, n_of_users):\n",
    "    ad = 0\n",
    "    max_upper_bound = 0\n",
    "    for i in range(0, n_of_ads):\n",
    "        # if the add was selected\n",
    "        if n_of_selections[i] > 0:\n",
    "            # average reward of the ad\n",
    "            average_reward = sums_of_rewards[i] / n_of_selections[i]\n",
    "            # confidence interval\n",
    "            delta_i = math.sqrt(3/2 * math.log(n + 1) / n_of_selections[i])\n",
    "            # upper bund\n",
    "            upper_bound = average_reward + delta_i\n",
    "        else:\n",
    "            upper_bound = 10**400\n",
    "            \n",
    "        if upper_bound > max_upper_bound:\n",
    "            max_upper_bound = upper_bound\n",
    "            ad = i\n",
    "            \n",
    "\n"
   ],
   "execution_count": 2,
   "outputs": []
  },
  {
   "cell_type": "markdown",
   "metadata": {
    "id": "AXftWcjDwsYj",
    "colab_type": "text"
   },
   "source": [
    "## Visualising the results"
   ]
  },
  {
   "cell_type": "code",
   "metadata": {
    "id": "eVyD_EDXwtkK",
    "colab_type": "code",
    "colab": {
     "base_uri": "https://localhost:8080/",
     "height": 295
    },
    "outputId": "8cb6b886-8482-43be-e4ee-0313c17508c6",
    "executionInfo": {
     "status": "ok",
     "timestamp": 1586416167859,
     "user_tz": -240,
     "elapsed": 2141,
     "user": {
      "displayName": "Hadelin de Ponteves",
      "photoUrl": "https://lh3.googleusercontent.com/a-/AOh14GhEuXdT7eQweUmRPW8_laJuPggSK6hfvpl5a6WBaA=s64",
      "userId": "15047218817161520419"
     }
    },
    "ExecuteTime": {
     "end_time": "2023-12-12T19:47:23.352715Z",
     "start_time": "2023-12-12T19:47:23.321765Z"
    }
   },
   "source": [],
   "execution_count": 2,
   "outputs": []
  }
 ]
}
