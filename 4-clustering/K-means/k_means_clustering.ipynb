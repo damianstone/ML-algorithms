{
 "nbformat": 4,
 "nbformat_minor": 0,
 "metadata": {
  "colab": {
   "name": "K-Means Clustering",
   "provenance": [],
   "toc_visible": true,
   "authorship_tag": "ABX9TyN979dFKn9B6Ro9v0hJ4uqU"
  },
  "kernelspec": {
   "name": "python3",
   "language": "python",
   "display_name": "Python 3 (ipykernel)"
  }
 },
 "cells": [
  {
   "cell_type": "markdown",
   "metadata": {
    "id": "i_paGd_yLbgH",
    "colab_type": "text"
   },
   "source": [
    "# K-Means Clustering"
   ]
  },
  {
   "cell_type": "markdown",
   "metadata": {
    "id": "nAuqPwTnLipr",
    "colab_type": "text"
   },
   "source": [
    "## Importing the libraries"
   ]
  },
  {
   "cell_type": "code",
   "metadata": {
    "id": "yUXGcC4KLmcL",
    "colab_type": "code",
    "colab": {},
    "ExecuteTime": {
     "end_time": "2023-10-12T22:56:20.101205Z",
     "start_time": "2023-10-12T22:56:15.688645Z"
    }
   },
   "source": [
    "import numpy as np\n",
    "import matplotlib.pyplot as plt\n",
    "import pandas as pd"
   ],
   "execution_count": 1,
   "outputs": []
  },
  {
   "cell_type": "markdown",
   "metadata": {
    "id": "5LciKOr8Lo5O",
    "colab_type": "text"
   },
   "source": [
    "## Importing the dataset"
   ]
  },
  {
   "cell_type": "code",
   "metadata": {
    "id": "9RlmPzZGLtGi",
    "colab_type": "code",
    "colab": {},
    "ExecuteTime": {
     "end_time": "2023-10-12T22:56:20.121985Z",
     "start_time": "2023-10-12T22:56:20.104080Z"
    }
   },
   "source": [
    "dataset = pd.read_csv('Mall_Customers.csv')\n",
    "X = dataset.iloc[:, [3, 4]].values"
   ],
   "execution_count": 2,
   "outputs": []
  },
  {
   "cell_type": "markdown",
   "metadata": {
    "id": "nWC2EWp2Lx5G",
    "colab_type": "text"
   },
   "source": [
    "## Using the elbow method to find the optimal number of clusters"
   ]
  },
  {
   "cell_type": "code",
   "metadata": {
    "id": "zWs6ciOoL1b3",
    "colab_type": "code",
    "colab": {
     "base_uri": "https://localhost:8080/",
     "height": 295
    },
    "outputId": "893027bb-ecf9-45a4-f229-f54cebdccee2",
    "executionInfo": {
     "status": "ok",
     "timestamp": 1586372911621,
     "user_tz": -240,
     "elapsed": 2064,
     "user": {
      "displayName": "Hadelin de Ponteves",
      "photoUrl": "https://lh3.googleusercontent.com/a-/AOh14GhEuXdT7eQweUmRPW8_laJuPggSK6hfvpl5a6WBaA=s64",
      "userId": "15047218817161520419"
     }
    },
    "ExecuteTime": {
     "end_time": "2023-10-12T22:56:20.136441Z",
     "start_time": "2023-10-12T22:56:20.122679Z"
    }
   },
   "source": [],
   "execution_count": 2,
   "outputs": []
  },
  {
   "cell_type": "markdown",
   "metadata": {
    "id": "VgT0mANLL4Nz",
    "colab_type": "text"
   },
   "source": [
    "## Training the K-Means model on the dataset"
   ]
  },
  {
   "cell_type": "code",
   "metadata": {
    "id": "cjEfU6ZSMAPl",
    "colab_type": "code",
    "colab": {},
    "ExecuteTime": {
     "end_time": "2023-10-12T22:56:20.150188Z",
     "start_time": "2023-10-12T22:56:20.131945Z"
    }
   },
   "source": [],
   "execution_count": 2,
   "outputs": []
  },
  {
   "cell_type": "markdown",
   "metadata": {
    "id": "e7YrS1JAMFnm",
    "colab_type": "text"
   },
   "source": [
    "## Visualising the clusters"
   ]
  },
  {
   "cell_type": "code",
   "metadata": {
    "id": "d0ZYecccMHNx",
    "colab_type": "code",
    "colab": {
     "base_uri": "https://localhost:8080/",
     "height": 295
    },
    "outputId": "01079a1c-4593-4c3e-8c0c-47229c27cd84",
    "executionInfo": {
     "status": "ok",
     "timestamp": 1586372929246,
     "user_tz": -240,
     "elapsed": 2048,
     "user": {
      "displayName": "Hadelin de Ponteves",
      "photoUrl": "https://lh3.googleusercontent.com/a-/AOh14GhEuXdT7eQweUmRPW8_laJuPggSK6hfvpl5a6WBaA=s64",
      "userId": "15047218817161520419"
     }
    },
    "ExecuteTime": {
     "end_time": "2023-10-12T22:56:20.154708Z",
     "start_time": "2023-10-12T22:56:20.140892Z"
    }
   },
   "source": [],
   "execution_count": 2,
   "outputs": []
  }
 ]
}
