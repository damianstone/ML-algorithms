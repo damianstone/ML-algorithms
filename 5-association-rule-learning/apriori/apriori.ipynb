{
 "nbformat": 4,
 "nbformat_minor": 0,
 "metadata": {
  "colab": {
   "name": "apriori.ipynb",
   "provenance": [],
   "collapsed_sections": [],
   "toc_visible": true
  },
  "kernelspec": {
   "name": "python3",
   "language": "python",
   "display_name": "Python 3 (ipykernel)"
  }
 },
 "cells": [
  {
   "cell_type": "markdown",
   "metadata": {
    "id": "1fziHl7Ar94J",
    "colab_type": "text"
   },
   "source": [
    "# Apriori"
   ]
  },
  {
   "cell_type": "markdown",
   "metadata": {
    "id": "eiNwni1xsEgT",
    "colab_type": "text"
   },
   "source": [
    "## Importing the libraries"
   ]
  },
  {
   "cell_type": "code",
   "metadata": {
    "id": "DUF77Qr1vqyM",
    "colab_type": "code",
    "outputId": "c4c2d702-9e4b-414c-bb3e-caa543b487f0",
    "colab": {
     "base_uri": "https://localhost:8080/",
     "height": 34
    },
    "ExecuteTime": {
     "end_time": "2023-11-20T02:01:06.176658Z",
     "start_time": "2023-11-20T02:01:01.328299Z"
    }
   },
   "source": [
    "!pip install apyori"
   ],
   "execution_count": 1,
   "outputs": [
    {
     "name": "stdout",
     "output_type": "stream",
     "text": [
      "Collecting apyori\r\n",
      "  Downloading apyori-1.1.2.tar.gz (8.6 kB)\r\n",
      "  Preparing metadata (setup.py) ... \u001B[?25ldone\r\n",
      "\u001B[?25hBuilding wheels for collected packages: apyori\r\n",
      "  Building wheel for apyori (setup.py) ... \u001B[?25ldone\r\n",
      "\u001B[?25h  Created wheel for apyori: filename=apyori-1.1.2-py3-none-any.whl size=5975 sha256=6b46c262f28f8b9ee09cced09ac33ec8f72552ce7d56594b882f8faa73461c88\r\n",
      "  Stored in directory: /Users/damianstone/Library/Caches/pip/wheels/32/2a/54/10c595515f385f3726642b10c60bf788029e8f3a1323e3913a\r\n",
      "Successfully built apyori\r\n",
      "Installing collected packages: apyori\r\n",
      "Successfully installed apyori-1.1.2\r\n",
      "\r\n",
      "\u001B[1m[\u001B[0m\u001B[34;49mnotice\u001B[0m\u001B[1;39;49m]\u001B[0m\u001B[39;49m A new release of pip is available: \u001B[0m\u001B[31;49m23.1.2\u001B[0m\u001B[39;49m -> \u001B[0m\u001B[32;49m23.3.1\u001B[0m\r\n",
      "\u001B[1m[\u001B[0m\u001B[34;49mnotice\u001B[0m\u001B[1;39;49m]\u001B[0m\u001B[39;49m To update, run: \u001B[0m\u001B[32;49mpip install --upgrade pip\u001B[0m\r\n"
     ]
    }
   ]
  },
  {
   "cell_type": "code",
   "metadata": {
    "id": "UJfitBClsJlT",
    "colab_type": "code",
    "colab": {},
    "ExecuteTime": {
     "end_time": "2023-11-20T02:01:14.025061Z",
     "start_time": "2023-11-20T02:01:06.162284Z"
    }
   },
   "source": [
    "import numpy as np\n",
    "import matplotlib.pyplot as plt\n",
    "import pandas as pd"
   ],
   "execution_count": 2,
   "outputs": []
  },
  {
   "cell_type": "markdown",
   "metadata": {
    "id": "vLt-7XUKsXBd",
    "colab_type": "text"
   },
   "source": [
    "## Data Preprocessing"
   ]
  },
  {
   "cell_type": "code",
   "metadata": {
    "id": "J_A-UFOAsaDf",
    "colab_type": "code",
    "colab": {},
    "ExecuteTime": {
     "end_time": "2023-11-20T02:01:14.036873Z",
     "start_time": "2023-11-20T02:01:14.027544Z"
    }
   },
   "source": [
    "# someomd"
   ],
   "execution_count": 2,
   "outputs": []
  },
  {
   "cell_type": "markdown",
   "metadata": {
    "id": "1wYZdBd5sea_",
    "colab_type": "text"
   },
   "source": [
    "## Training the Apriori model on the dataset"
   ]
  },
  {
   "cell_type": "code",
   "metadata": {
    "id": "YzIk4vXZsj5i",
    "colab_type": "code",
    "colab": {},
    "ExecuteTime": {
     "end_time": "2023-11-20T02:01:14.037492Z",
     "start_time": "2023-11-20T02:01:14.034090Z"
    }
   },
   "source": [],
   "execution_count": 2,
   "outputs": []
  },
  {
   "cell_type": "markdown",
   "metadata": {
    "id": "b176YNwWspiO",
    "colab_type": "text"
   },
   "source": [
    "## Visualising the results"
   ]
  },
  {
   "cell_type": "markdown",
   "metadata": {
    "id": "iO6bF_dImT-E",
    "colab_type": "text"
   },
   "source": [
    "### Displaying the first results coming directly from the output of the apriori function"
   ]
  },
  {
   "cell_type": "code",
   "metadata": {
    "id": "kvF-sLc6ifhd",
    "colab_type": "code",
    "colab": {},
    "ExecuteTime": {
     "end_time": "2023-11-20T02:01:14.049697Z",
     "start_time": "2023-11-20T02:01:14.041702Z"
    }
   },
   "source": [],
   "execution_count": 2,
   "outputs": []
  },
  {
   "cell_type": "markdown",
   "metadata": {
    "id": "MFkQP-fcjDBC",
    "colab_type": "text"
   },
   "source": [
    "### Putting the results well organised into a Pandas DataFrame"
   ]
  },
  {
   "cell_type": "code",
   "metadata": {
    "id": "gyq7Poi0mMUe",
    "colab_type": "code",
    "colab": {},
    "ExecuteTime": {
     "end_time": "2023-11-20T02:01:14.061839Z",
     "start_time": "2023-11-20T02:01:14.049036Z"
    }
   },
   "source": [],
   "execution_count": 2,
   "outputs": []
  },
  {
   "cell_type": "markdown",
   "metadata": {
    "id": "Pfn-G1eAjjLz",
    "colab_type": "text"
   },
   "source": [
    "### Displaying the results non sorted"
   ]
  },
  {
   "cell_type": "code",
   "metadata": {
    "id": "CmDCcs_6ip9V",
    "colab_type": "code",
    "outputId": "2170915c-075e-455e-b65b-6ae8d1a62166",
    "colab": {
     "base_uri": "https://localhost:8080/",
     "height": 326
    },
    "ExecuteTime": {
     "end_time": "2023-11-20T02:01:14.062401Z",
     "start_time": "2023-11-20T02:01:14.055377Z"
    }
   },
   "source": [],
   "execution_count": 2,
   "outputs": []
  },
  {
   "cell_type": "markdown",
   "metadata": {
    "id": "IjrrlYW4jpTR",
    "colab_type": "text"
   },
   "source": [
    "### Displaying the results sorted by descending lifts"
   ]
  },
  {
   "cell_type": "code",
   "metadata": {
    "id": "nI7DJXng-nxQ",
    "colab_type": "code",
    "outputId": "aac84e87-eb2a-4428-cf55-1c16d23ea3ed",
    "colab": {
     "base_uri": "https://localhost:8080/",
     "height": 326
    },
    "ExecuteTime": {
     "end_time": "2023-11-20T02:01:14.074332Z",
     "start_time": "2023-11-20T02:01:14.062612Z"
    }
   },
   "source": [],
   "execution_count": 2,
   "outputs": []
  }
 ]
}
