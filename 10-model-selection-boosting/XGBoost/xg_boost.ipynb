{
 "nbformat": 4,
 "nbformat_minor": 0,
 "metadata": {
  "colab": {
   "name": "xg_boost.ipynb",
   "provenance": [],
   "collapsed_sections": []
  },
  "kernelspec": {
   "name": "python3",
   "display_name": "Python 3 (ipykernel)",
   "language": "python"
  }
 },
 "cells": [
  {
   "cell_type": "markdown",
   "metadata": {
    "id": "8FLud1n-3pVm",
    "colab_type": "text"
   },
   "source": [
    "# XGBoost"
   ]
  },
  {
   "cell_type": "markdown",
   "metadata": {
    "id": "sO8VPU6n3vES",
    "colab_type": "text"
   },
   "source": [
    "## Importing the libraries"
   ]
  },
  {
   "cell_type": "code",
   "metadata": {
    "id": "clDSsF7P33NU",
    "colab_type": "code",
    "colab": {},
    "ExecuteTime": {
     "end_time": "2024-09-30T16:50:02.142853Z",
     "start_time": "2024-09-30T16:50:00.920851Z"
    }
   },
   "source": [
    "import numpy as np\n",
    "import matplotlib.pyplot as plt\n",
    "import pandas as pd"
   ],
   "outputs": [],
   "execution_count": 1
  },
  {
   "cell_type": "markdown",
   "metadata": {
    "id": "zGpwK5XD386E",
    "colab_type": "text"
   },
   "source": [
    "## Importing the dataset"
   ]
  },
  {
   "cell_type": "code",
   "metadata": {
    "id": "Zcksk88u4Ae8",
    "colab_type": "code",
    "colab": {},
    "ExecuteTime": {
     "end_time": "2024-09-30T16:50:02.156343Z",
     "start_time": "2024-09-30T16:50:02.146316Z"
    }
   },
   "source": [
    "dataset = pd.read_csv('Data.csv')\n",
    "X = dataset.iloc[:, :-1].values\n",
    "y = dataset.iloc[:, -1].values"
   ],
   "outputs": [],
   "execution_count": 2
  },
  {
   "cell_type": "markdown",
   "metadata": {
    "id": "XNn2RnST6_Q-",
    "colab_type": "text"
   },
   "source": [
    "## Splitting the dataset into the Training set and Test set"
   ]
  },
  {
   "cell_type": "code",
   "metadata": {
    "id": "ajhBL-er7Gry",
    "colab_type": "code",
    "colab": {},
    "ExecuteTime": {
     "end_time": "2024-09-30T16:50:03.144604Z",
     "start_time": "2024-09-30T16:50:02.158257Z"
    }
   },
   "source": [
    "from sklearn.model_selection import train_test_split\n",
    "X_train, X_test, y_train, y_test = train_test_split(X, y, test_size = 0.2, random_state = 0)"
   ],
   "outputs": [],
   "execution_count": 3
  },
  {
   "cell_type": "markdown",
   "metadata": {
    "id": "1Y89ctGZ7Mcx",
    "colab_type": "text"
   },
   "source": [
    "## Training XGBoost on the Training set"
   ]
  },
  {
   "cell_type": "code",
   "metadata": {
    "id": "ude1J0E47SKN",
    "colab_type": "code",
    "colab": {},
    "ExecuteTime": {
     "end_time": "2024-09-30T16:50:04.029681Z",
     "start_time": "2024-09-30T16:50:03.148150Z"
    }
   },
   "source": [
    "from xgboost import XGBClassifier\n",
    "\n",
    "classifier = XGBClassifier()\n",
    "\n",
    "classifier.fit(X_train, y_train)"
   ],
   "outputs": [
    {
     "ename": "XGBoostError",
     "evalue": "\nXGBoost Library (libxgboost.dylib) could not be loaded.\nLikely causes:\n  * OpenMP runtime is not installed\n    - vcomp140.dll or libgomp-1.dll for Windows\n    - libomp.dylib for Mac OSX\n    - libgomp.so for Linux and other UNIX-like OSes\n    Mac OSX users: Run `brew install libomp` to install OpenMP runtime.\n\n  * You are running 32-bit Python on a 64-bit OS\n\nError message(s): [\"dlopen(/Users/damianstone/Documents/Code/machine-learning/ML-course/venv-ml/lib/python3.9/site-packages/xgboost/lib/libxgboost.dylib, 0x0006): Library not loaded: @rpath/libomp.dylib\\n  Referenced from: <04125532-9495-3051-97BC-F23BE76BA2F9> /Users/damianstone/Documents/Code/machine-learning/ML-course/venv-ml/lib/python3.9/site-packages/xgboost/lib/libxgboost.dylib\\n  Reason: tried: '/usr/local/opt/libomp/lib/libomp.dylib' (no such file), '/System/Volumes/Preboot/Cryptexes/OS/usr/local/opt/libomp/lib/libomp.dylib' (no such file), '/usr/local/opt/libomp/lib/libomp.dylib' (no such file), '/System/Volumes/Preboot/Cryptexes/OS/usr/local/opt/libomp/lib/libomp.dylib' (no such file)\"]\n",
     "output_type": "error",
     "traceback": [
      "\u001B[0;31m---------------------------------------------------------------------------\u001B[0m",
      "\u001B[0;31mXGBoostError\u001B[0m                              Traceback (most recent call last)",
      "Cell \u001B[0;32mIn[4], line 1\u001B[0m\n\u001B[0;32m----> 1\u001B[0m \u001B[38;5;28;01mfrom\u001B[39;00m \u001B[38;5;21;01mxgboost\u001B[39;00m \u001B[38;5;28;01mimport\u001B[39;00m XGBClassifier\n\u001B[1;32m      3\u001B[0m classifier \u001B[38;5;241m=\u001B[39m XGBClassifier()\n\u001B[1;32m      5\u001B[0m classifier\u001B[38;5;241m.\u001B[39mfit(X_train, y_train)\n",
      "File \u001B[0;32m~/Documents/Code/machine-learning/ML-course/venv-ml/lib/python3.9/site-packages/xgboost/__init__.py:6\u001B[0m\n\u001B[1;32m      1\u001B[0m \u001B[38;5;124;03m\"\"\"XGBoost: eXtreme Gradient Boosting library.\u001B[39;00m\n\u001B[1;32m      2\u001B[0m \n\u001B[1;32m      3\u001B[0m \u001B[38;5;124;03mContributors: https://github.com/dmlc/xgboost/blob/master/CONTRIBUTORS.md\u001B[39;00m\n\u001B[1;32m      4\u001B[0m \u001B[38;5;124;03m\"\"\"\u001B[39;00m\n\u001B[0;32m----> 6\u001B[0m \u001B[38;5;28;01mfrom\u001B[39;00m \u001B[38;5;21;01m.\u001B[39;00m \u001B[38;5;28;01mimport\u001B[39;00m tracker  \u001B[38;5;66;03m# noqa\u001B[39;00m\n\u001B[1;32m      7\u001B[0m \u001B[38;5;28;01mfrom\u001B[39;00m \u001B[38;5;21;01m.\u001B[39;00m \u001B[38;5;28;01mimport\u001B[39;00m collective, dask\n\u001B[1;32m      8\u001B[0m \u001B[38;5;28;01mfrom\u001B[39;00m \u001B[38;5;21;01m.\u001B[39;00m\u001B[38;5;21;01mcore\u001B[39;00m \u001B[38;5;28;01mimport\u001B[39;00m (\n\u001B[1;32m      9\u001B[0m     Booster,\n\u001B[1;32m     10\u001B[0m     DataIter,\n\u001B[0;32m   (...)\u001B[0m\n\u001B[1;32m     15\u001B[0m     build_info,\n\u001B[1;32m     16\u001B[0m )\n",
      "File \u001B[0;32m~/Documents/Code/machine-learning/ML-course/venv-ml/lib/python3.9/site-packages/xgboost/tracker.py:9\u001B[0m\n\u001B[1;32m      6\u001B[0m \u001B[38;5;28;01mfrom\u001B[39;00m \u001B[38;5;21;01menum\u001B[39;00m \u001B[38;5;28;01mimport\u001B[39;00m IntEnum, unique\n\u001B[1;32m      7\u001B[0m \u001B[38;5;28;01mfrom\u001B[39;00m \u001B[38;5;21;01mtyping\u001B[39;00m \u001B[38;5;28;01mimport\u001B[39;00m Dict, Optional, Union\n\u001B[0;32m----> 9\u001B[0m \u001B[38;5;28;01mfrom\u001B[39;00m \u001B[38;5;21;01m.\u001B[39;00m\u001B[38;5;21;01mcore\u001B[39;00m \u001B[38;5;28;01mimport\u001B[39;00m _LIB, _check_call, make_jcargs\n\u001B[1;32m     12\u001B[0m \u001B[38;5;28;01mdef\u001B[39;00m \u001B[38;5;21mget_family\u001B[39m(addr: \u001B[38;5;28mstr\u001B[39m) \u001B[38;5;241m-\u001B[39m\u001B[38;5;241m>\u001B[39m \u001B[38;5;28mint\u001B[39m:\n\u001B[1;32m     13\u001B[0m \u001B[38;5;250m    \u001B[39m\u001B[38;5;124;03m\"\"\"Get network family from address.\"\"\"\u001B[39;00m\n",
      "File \u001B[0;32m~/Documents/Code/machine-learning/ML-course/venv-ml/lib/python3.9/site-packages/xgboost/core.py:269\u001B[0m\n\u001B[1;32m    265\u001B[0m     \u001B[38;5;28;01mreturn\u001B[39;00m lib\n\u001B[1;32m    268\u001B[0m \u001B[38;5;66;03m# load the XGBoost library globally\u001B[39;00m\n\u001B[0;32m--> 269\u001B[0m _LIB \u001B[38;5;241m=\u001B[39m \u001B[43m_load_lib\u001B[49m\u001B[43m(\u001B[49m\u001B[43m)\u001B[49m\n\u001B[1;32m    272\u001B[0m \u001B[38;5;28;01mdef\u001B[39;00m \u001B[38;5;21m_check_call\u001B[39m(ret: \u001B[38;5;28mint\u001B[39m) \u001B[38;5;241m-\u001B[39m\u001B[38;5;241m>\u001B[39m \u001B[38;5;28;01mNone\u001B[39;00m:\n\u001B[1;32m    273\u001B[0m \u001B[38;5;250m    \u001B[39m\u001B[38;5;124;03m\"\"\"Check the return value of C API call\u001B[39;00m\n\u001B[1;32m    274\u001B[0m \n\u001B[1;32m    275\u001B[0m \u001B[38;5;124;03m    This function will raise exception when error occurs.\u001B[39;00m\n\u001B[0;32m   (...)\u001B[0m\n\u001B[1;32m    281\u001B[0m \u001B[38;5;124;03m        return value from API calls\u001B[39;00m\n\u001B[1;32m    282\u001B[0m \u001B[38;5;124;03m    \"\"\"\u001B[39;00m\n",
      "File \u001B[0;32m~/Documents/Code/machine-learning/ML-course/venv-ml/lib/python3.9/site-packages/xgboost/core.py:222\u001B[0m, in \u001B[0;36m_load_lib\u001B[0;34m()\u001B[0m\n\u001B[1;32m    220\u001B[0m     \u001B[38;5;28;01mif\u001B[39;00m \u001B[38;5;129;01mnot\u001B[39;00m lib_success:\n\u001B[1;32m    221\u001B[0m         libname \u001B[38;5;241m=\u001B[39m os\u001B[38;5;241m.\u001B[39mpath\u001B[38;5;241m.\u001B[39mbasename(lib_paths[\u001B[38;5;241m0\u001B[39m])\n\u001B[0;32m--> 222\u001B[0m         \u001B[38;5;28;01mraise\u001B[39;00m XGBoostError(\n\u001B[1;32m    223\u001B[0m             \u001B[38;5;124mf\u001B[39m\u001B[38;5;124m\"\"\"\u001B[39m\n\u001B[1;32m    224\u001B[0m \u001B[38;5;124mXGBoost Library (\u001B[39m\u001B[38;5;132;01m{\u001B[39;00mlibname\u001B[38;5;132;01m}\u001B[39;00m\u001B[38;5;124m) could not be loaded.\u001B[39m\n\u001B[1;32m    225\u001B[0m \u001B[38;5;124mLikely causes:\u001B[39m\n\u001B[1;32m    226\u001B[0m \u001B[38;5;124m  * OpenMP runtime is not installed\u001B[39m\n\u001B[1;32m    227\u001B[0m \u001B[38;5;124m    - vcomp140.dll or libgomp-1.dll for Windows\u001B[39m\n\u001B[1;32m    228\u001B[0m \u001B[38;5;124m    - libomp.dylib for Mac OSX\u001B[39m\n\u001B[1;32m    229\u001B[0m \u001B[38;5;124m    - libgomp.so for Linux and other UNIX-like OSes\u001B[39m\n\u001B[1;32m    230\u001B[0m \u001B[38;5;124m    Mac OSX users: Run `brew install libomp` to install OpenMP runtime.\u001B[39m\n\u001B[1;32m    231\u001B[0m \n\u001B[1;32m    232\u001B[0m \u001B[38;5;124m  * You are running 32-bit Python on a 64-bit OS\u001B[39m\n\u001B[1;32m    233\u001B[0m \n\u001B[1;32m    234\u001B[0m \u001B[38;5;124mError message(s): \u001B[39m\u001B[38;5;132;01m{\u001B[39;00mos_error_list\u001B[38;5;132;01m}\u001B[39;00m\n\u001B[1;32m    235\u001B[0m \u001B[38;5;124m\"\"\"\u001B[39m\n\u001B[1;32m    236\u001B[0m         )\n\u001B[1;32m    237\u001B[0m     _register_log_callback(lib)\n\u001B[1;32m    239\u001B[0m     \u001B[38;5;28;01mdef\u001B[39;00m \u001B[38;5;21mparse\u001B[39m(ver: \u001B[38;5;28mstr\u001B[39m) \u001B[38;5;241m-\u001B[39m\u001B[38;5;241m>\u001B[39m Tuple[\u001B[38;5;28mint\u001B[39m, \u001B[38;5;28mint\u001B[39m, \u001B[38;5;28mint\u001B[39m]:\n",
      "\u001B[0;31mXGBoostError\u001B[0m: \nXGBoost Library (libxgboost.dylib) could not be loaded.\nLikely causes:\n  * OpenMP runtime is not installed\n    - vcomp140.dll or libgomp-1.dll for Windows\n    - libomp.dylib for Mac OSX\n    - libgomp.so for Linux and other UNIX-like OSes\n    Mac OSX users: Run `brew install libomp` to install OpenMP runtime.\n\n  * You are running 32-bit Python on a 64-bit OS\n\nError message(s): [\"dlopen(/Users/damianstone/Documents/Code/machine-learning/ML-course/venv-ml/lib/python3.9/site-packages/xgboost/lib/libxgboost.dylib, 0x0006): Library not loaded: @rpath/libomp.dylib\\n  Referenced from: <04125532-9495-3051-97BC-F23BE76BA2F9> /Users/damianstone/Documents/Code/machine-learning/ML-course/venv-ml/lib/python3.9/site-packages/xgboost/lib/libxgboost.dylib\\n  Reason: tried: '/usr/local/opt/libomp/lib/libomp.dylib' (no such file), '/System/Volumes/Preboot/Cryptexes/OS/usr/local/opt/libomp/lib/libomp.dylib' (no such file), '/usr/local/opt/libomp/lib/libomp.dylib' (no such file), '/System/Volumes/Preboot/Cryptexes/OS/usr/local/opt/libomp/lib/libomp.dylib' (no such file)\"]\n"
     ]
    }
   ],
   "execution_count": 4
  },
  {
   "cell_type": "markdown",
   "metadata": {
    "id": "ivqmubzW7dFJ",
    "colab_type": "text"
   },
   "source": [
    "## Making the Confusion Matrix"
   ]
  },
  {
   "cell_type": "code",
   "metadata": {
    "id": "SUSZ3zm_7gRD",
    "colab_type": "code",
    "colab": {},
    "ExecuteTime": {
     "end_time": "2024-09-30T16:50:04.031586Z",
     "start_time": "2024-09-30T16:50:04.031376Z"
    }
   },
   "source": [
    "from sklearn.metrics import confusion_matrix, accuracy_score\n",
    "\n",
    "y_pred = classifier.predict(X_test)\n",
    "\n",
    "cm = confusion_matrix(y_test, y_pred)\n",
    "\n",
    "print(cm)\n",
    "\n",
    "accuracy_score(y_test, y_pred)"
   ],
   "outputs": [],
   "execution_count": null
  },
  {
   "cell_type": "markdown",
   "metadata": {
    "id": "EnbCjHgQ8XPn",
    "colab_type": "text"
   },
   "source": [
    "## Applying k-Fold Cross Validation"
   ]
  },
  {
   "cell_type": "code",
   "metadata": {
    "id": "yYbfiITD8ZAz",
    "colab_type": "code",
    "colab": {}
   },
   "source": [
    "from sklearn.model_selection import cross_val_score\n",
    "\n",
    "accuracies = cross_val_score(estimator = classifier, X = X_train, y = y_train, cv = 10)\n",
    "\n",
    "print(\"Accuracy: {:.2f} %\".format(accuracies.mean()*100))\n",
    "print(\"Standard Deviation: {:.2f} %\".format(accuracies.std()*100))"
   ],
   "outputs": [],
   "execution_count": null
  }
 ]
}
